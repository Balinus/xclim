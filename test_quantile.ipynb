{
 "cells": [
  {
   "cell_type": "code",
   "execution_count": 3,
   "metadata": {
    "metadata": {}
   },
   "outputs": [
    {
     "data": {
      "text/plain": [
       "4.2005265481208437e-26"
      ]
     },
     "execution_count": 3,
     "metadata": {},
     "output_type": "execute_result"
    }
   ],
   "source": [
    "from __future__ import annotations\n",
    "\n",
    "from pathlib import Path\n",
    "\n",
    "import numpy as np\n",
    "\n",
    "import xclim\n",
    "from xclim import sdba\n",
    "from xclim.testing import open_dataset\n",
    "\n",
    "ds = open_dataset(\n",
    "    \"sdba/CanESM2_1950-2100.nc\", cache=True, cache_dir=Path(\"~/data/xclim/\")\n",
    ")\n",
    "tx = ds.tasmax.sel(time=slice(\"1950\", \"1980\")).isel(location=0)\n",
    "q = np.linspace(0, 1, 50)\n",
    "arr = tx.values\n",
    "arr_m1 = arr.copy()\n",
    "arr_m2 = arr.copy()\n",
    "\n",
    "# do some sort of computation to make sure it's compiled.\n",
    "np.square(\n",
    "    sdba.nbutils._sortquantile(np.copy(arr_m1), q)\n",
    "    - sdba.nbutils._nan_quantile(np.copy(arr_m2), q)\n",
    ").sum()"
   ]
  },
  {
   "cell_type": "code",
   "execution_count": 4,
   "metadata": {
    "metadata": {}
   },
   "outputs": [
    {
     "name": "stdout",
     "output_type": "stream",
     "text": [
      "DUMP CPUDispatcher[_nan_quantile, type code=2691]\n",
      "  DUMP CompileResult <built-in method _nan_quantile of _dynfunc._Closure object at 0x7f70b1b28a00>\n",
      "    DUMP Signature [type code: 3191]\n",
      "      Argument types:\n",
      "      | DUMP Array[code=2697, name=array(float32, 1d, C)]\n",
      "      | DUMP Array[code=1966, name=array(float64, 1d, C)]\n",
      "      | DUMP Omitted[code=2902, name=omitted(default=1.0)]\n",
      "      | DUMP Omitted[code=2902, name=omitted(default=1.0)]\n",
      "      Return type:\n",
      "      | DUMP Array[code=1966, name=array(float64, 1d, C)]\n",
      "    END DUMP\n",
      "  END DUMP\n",
      "END DUMP CPUDispatcher[_nan_quantile]\n"
     ]
    }
   ],
   "source": [
    "sdba.nbutils._nan_quantile.dump()"
   ]
  },
  {
   "cell_type": "code",
   "execution_count": 5,
   "metadata": {
    "metadata": {}
   },
   "outputs": [
    {
     "name": "stdout",
     "output_type": "stream",
     "text": [
      "877 µs ± 10.9 µs per loop (mean ± std. dev. of 7 runs, 1,000 loops each)\n"
     ]
    }
   ],
   "source": [
    "%%timeit\n",
    "# sortquantile implementation\n",
    "sdba.nbutils._sortquantile(arr_m1, q)"
   ]
  },
  {
   "cell_type": "code",
   "execution_count": 6,
   "metadata": {
    "metadata": {}
   },
   "outputs": [
    {
     "name": "stdout",
     "output_type": "stream",
     "text": [
      "156 µs ± 1.41 µs per loop (mean ± std. dev. of 7 runs, 10,000 loops each)\n"
     ]
    }
   ],
   "source": [
    "%%timeit arr_m3 = np.copy(arr_m2)\n",
    "# 1d numba-compiled version of xclim.core.utils._nan_quantile (cheating)\n",
    "sdba.nbutils._nan_quantile(arr_m3, q)"
   ]
  },
  {
   "cell_type": "code",
   "execution_count": 7,
   "metadata": {},
   "outputs": [
    {
     "name": "stdout",
     "output_type": "stream",
     "text": [
      "901 µs ± 35.7 µs per loop (mean ± std. dev. of 7 runs, 1,000 loops each)\n"
     ]
    }
   ],
   "source": [
    "%%timeit\n",
    "# 1d numba-compiled version of xclim.core.utils._nan_quantile\n",
    "sdba.nbutils._nan_quantile(np.copy(arr_m2), q)"
   ]
  },
  {
   "cell_type": "code",
   "execution_count": 8,
   "metadata": {
    "metadata": {}
   },
   "outputs": [
    {
     "name": "stdout",
     "output_type": "stream",
     "text": [
      "858 µs ± 8.82 µs per loop (mean ± std. dev. of 7 runs, 1,000 loops each)\n"
     ]
    }
   ],
   "source": [
    "%%timeit\n",
    "# Abel's implementation\n",
    "xclim.core.utils._nan_quantile(np.copy(arr_m2), q)"
   ]
  },
  {
   "cell_type": "code",
   "execution_count": 13,
   "metadata": {
    "metadata": {}
   },
   "outputs": [
    {
     "name": "stdout",
     "output_type": "stream",
     "text": [
      "221 µs ± 2.94 µs per loop (mean ± std. dev. of 7 runs, 1,000 loops each)\n"
     ]
    }
   ],
   "source": [
    "%%timeit arr_m3 = np.copy(arr_m2)\n",
    "# Abel's implementation (in-place (cheating)).\n",
    "xclim.core.utils._nan_quantile(arr_m3, q)"
   ]
  },
  {
   "cell_type": "code",
   "execution_count": 14,
   "metadata": {
    "metadata": {}
   },
   "outputs": [],
   "source": [
    "arr_m3 = np.copy(arr_m2)"
   ]
  },
  {
   "cell_type": "code",
   "execution_count": 15,
   "metadata": {
    "metadata": {}
   },
   "outputs": [
    {
     "name": "stdout",
     "output_type": "stream",
     "text": [
      "217 µs ± 4.06 µs per loop (mean ± std. dev. of 7 runs, 1,000 loops each)\n"
     ]
    }
   ],
   "source": [
    "%%timeit\n",
    "# Abel's implementation (in-place, sorted beforehand (super cheating!)).\n",
    "xclim.core.utils._nan_quantile(arr_m3, q)"
   ]
  },
  {
   "cell_type": "code",
   "execution_count": 21,
   "metadata": {
    "metadata": {}
   },
   "outputs": [],
   "source": [
    "import dask\n",
    "import xarray as xr\n",
    "\n",
    "ds2 = xr.open_dataset(\n",
    "    \"~/data/xclim/tasmax_day_CanESM5_ssp245_r1i1p1f1_gn_20150101-21001231.nc\"\n",
    ")\n",
    "\n",
    "ds_sel2 = ds2.isel(lat=0, lon=0).tasmax.compute()"
   ]
  },
  {
   "cell_type": "code",
   "execution_count": 13,
   "metadata": {
    "metadata": {}
   },
   "outputs": [],
   "source": [
    "arr2 = ds_sel2.values.copy()\n",
    "percent_of_nans = 0.0\n",
    "num_of_nans = int(percent_of_nans * arr2.size)\n",
    "random_indices = np.random.randint(0, arr2.shape[0], size=num_of_nans)\n",
    "arr2[random_indices] = np.nan"
   ]
  },
  {
   "cell_type": "code",
   "execution_count": 19,
   "metadata": {
    "metadata": {}
   },
   "outputs": [
    {
     "name": "stdout",
     "output_type": "stream",
     "text": [
      "430 µs ± 10.4 µs per loop (mean ± std. dev. of 7 runs, 1,000 loops each)\n"
     ]
    }
   ],
   "source": [
    "%%timeit\n",
    "xclim.core.utils._nan_quantile(arr2, q)"
   ]
  },
  {
   "cell_type": "code",
   "execution_count": 20,
   "metadata": {
    "metadata": {}
   },
   "outputs": [
    {
     "name": "stdout",
     "output_type": "stream",
     "text": [
      "435 µs ± 3.86 µs per loop (mean ± std. dev. of 7 runs, 1,000 loops each)\n"
     ]
    }
   ],
   "source": [
    "%%timeit\n",
    "sdba.nbutils._sortquantile(arr2, q)"
   ]
  },
  {
   "cell_type": "code",
   "execution_count": 16,
   "metadata": {
    "metadata": {}
   },
   "outputs": [
    {
     "data": {
      "text/plain": [
       "(31390,)"
      ]
     },
     "execution_count": 16,
     "metadata": {},
     "output_type": "execute_result"
    }
   ],
   "source": [
    "arr2.shape"
   ]
  },
  {
   "cell_type": "code",
   "execution_count": 17,
   "metadata": {
    "metadata": {}
   },
   "outputs": [
    {
     "data": {
      "text/plain": [
       "array([0.        , 0.02040816, 0.04081633, 0.06122449, 0.08163265,\n",
       "       0.10204082, 0.12244898, 0.14285714, 0.16326531, 0.18367347,\n",
       "       0.20408163, 0.2244898 , 0.24489796, 0.26530612, 0.28571429,\n",
       "       0.30612245, 0.32653061, 0.34693878, 0.36734694, 0.3877551 ,\n",
       "       0.40816327, 0.42857143, 0.44897959, 0.46938776, 0.48979592,\n",
       "       0.51020408, 0.53061224, 0.55102041, 0.57142857, 0.59183673,\n",
       "       0.6122449 , 0.63265306, 0.65306122, 0.67346939, 0.69387755,\n",
       "       0.71428571, 0.73469388, 0.75510204, 0.7755102 , 0.79591837,\n",
       "       0.81632653, 0.83673469, 0.85714286, 0.87755102, 0.89795918,\n",
       "       0.91836735, 0.93877551, 0.95918367, 0.97959184, 1.        ])"
      ]
     },
     "execution_count": 17,
     "metadata": {},
     "output_type": "execute_result"
    }
   ],
   "source": [
    "q"
   ]
  },
  {
   "cell_type": "code",
   "execution_count": null,
   "metadata": {},
   "outputs": [],
   "source": []
  }
 ],
 "metadata": {
  "kernelspec": {
   "display_name": "yclim",
   "language": "python",
   "name": "python3"
  },
  "language_info": {
   "codemirror_mode": {
    "name": "ipython",
    "version": 3
   },
   "file_extension": ".py",
   "mimetype": "text/x-python",
   "name": "python",
   "nbconvert_exporter": "python",
   "pygments_lexer": "ipython3",
   "version": "3.11.6"
  }
 },
 "nbformat": 4,
 "nbformat_minor": 2
}
