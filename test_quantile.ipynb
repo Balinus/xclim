{
 "cells": [
  {
   "cell_type": "code",
   "execution_count": null,
   "metadata": {
    "metadata": {}
   },
   "outputs": [],
   "source": [
    "from __future__ import annotations\n",
    "\n",
    "from pathlib import Path\n",
    "\n",
    "import numpy as np\n",
    "\n",
    "import xclim\n",
    "from xclim import sdba\n",
    "from xclim.testing import open_dataset\n",
    "\n",
    "ds = open_dataset(\n",
    "    \"sdba/CanESM2_1950-2100.nc\", cache=True, cache_dir=Path(\"~/data/xclim/\")\n",
    ")\n",
    "tx = ds.tasmax.sel(time=slice(\"1950\", \"1980\")).isel(location=0)\n",
    "q = np.linspace(0, 1, 50)\n",
    "arr = tx.values\n",
    "arr_m1 = arr.copy()\n",
    "arr_m2 = arr.copy()\n",
    "\n",
    "# do some sort of computation to make sure it's compiled.\n",
    "np.square(\n",
    "    sdba.nbutils._sortquantile(np.copy(arr_m1), q)\n",
    "    - sdba.nbutils.nan_quantile(np.copy(arr_m2), q)\n",
    ").sum()"
   ]
  },
  {
   "cell_type": "code",
   "execution_count": null,
   "metadata": {
    "metadata": {}
   },
   "outputs": [],
   "source": [
    "sdba.nbutils.nan_quantile.dump()"
   ]
  },
  {
   "cell_type": "code",
   "execution_count": null,
   "metadata": {
    "metadata": {}
   },
   "outputs": [],
   "source": [
    "%%timeit\n",
    "# sortquantile implementation\n",
    "sdba.nbutils._sortquantile(arr_m1, q)"
   ]
  },
  {
   "cell_type": "code",
   "execution_count": null,
   "metadata": {
    "metadata": {}
   },
   "outputs": [],
   "source": [
    "%%timeit arr_m3 = np.copy(arr_m2)\n",
    "# 1d numba-compiled version of xclim.core.utils.nan_quantile (cheating)\n",
    "sdba.nbutils.nan_quantile(arr_m3, q)"
   ]
  },
  {
   "cell_type": "code",
   "execution_count": null,
   "metadata": {},
   "outputs": [],
   "source": [
    "%%timeit\n",
    "# 1d numba-compiled version of xclim.core.utils.nan_quantile\n",
    "sdba.nbutils.nan_quantile(np.copy(arr_m2), q)"
   ]
  },
  {
   "cell_type": "code",
   "execution_count": null,
   "metadata": {
    "metadata": {}
   },
   "outputs": [],
   "source": [
    "%%timeit\n",
    "# Abel's implementation\n",
    "xclim.core.utils.nan_quantile(np.copy(arr_m2), q)"
   ]
  },
  {
   "cell_type": "code",
   "execution_count": null,
   "metadata": {
    "metadata": {}
   },
   "outputs": [],
   "source": [
    "%%timeit arr_m3 = np.copy(arr_m2)\n",
    "# Abel's implementation (in-place (cheating)).\n",
    "xclim.core.utils.nan_quantile(arr_m3, q)"
   ]
  },
  {
   "cell_type": "code",
   "execution_count": null,
   "metadata": {
    "metadata": {}
   },
   "outputs": [],
   "source": [
    "arr_m3 = np.copy(arr_m2)"
   ]
  },
  {
   "cell_type": "code",
   "execution_count": null,
   "metadata": {
    "metadata": {}
   },
   "outputs": [],
   "source": [
    "%%timeit\n",
    "# Abel's implementation (in-place, sorted beforehand (super cheating!)).\n",
    "xclim.core.utils.nan_quantile(arr_m3, q)"
   ]
  },
  {
   "cell_type": "code",
   "execution_count": null,
   "metadata": {
    "metadata": {}
   },
   "outputs": [],
   "source": [
    "import dask\n",
    "import xarray as xr\n",
    "\n",
    "ds2 = xr.open_dataset(\n",
    "    \"~/data/xclim/tasmax_day_CanESM5_ssp245_r1i1p1f1_gn_20150101-21001231.nc\"\n",
    ")\n",
    "\n",
    "ds_sel2 = ds2.isel(lat=0, lon=0).tasmax.compute()"
   ]
  },
  {
   "cell_type": "code",
   "execution_count": null,
   "metadata": {
    "metadata": {}
   },
   "outputs": [],
   "source": [
    "arr2 = ds_sel2.values.copy()\n",
    "percent_of_nans = 0.0\n",
    "num_of_nans = int(percent_of_nans * arr2.size)\n",
    "random_indices = np.random.randint(0, arr2.shape[0], size=num_of_nans)\n",
    "arr2[random_indices] = np.nan"
   ]
  },
  {
   "cell_type": "code",
   "execution_count": null,
   "metadata": {
    "metadata": {}
   },
   "outputs": [],
   "source": [
    "%%timeit\n",
    "xclim.core.utils.nan_quantile(arr2, q)"
   ]
  },
  {
   "cell_type": "code",
   "execution_count": null,
   "metadata": {
    "metadata": {}
   },
   "outputs": [],
   "source": [
    "%%timeit\n",
    "sdba.nbutils._sortquantile(arr2, q)"
   ]
  },
  {
   "cell_type": "code",
   "execution_count": null,
   "metadata": {
    "metadata": {}
   },
   "outputs": [],
   "source": [
    "arr2.shape"
   ]
  },
  {
   "cell_type": "code",
   "execution_count": null,
   "metadata": {
    "metadata": {}
   },
   "outputs": [],
   "source": [
    "q"
   ]
  },
  {
   "cell_type": "code",
   "execution_count": null,
   "metadata": {},
   "outputs": [],
   "source": []
  }
 ],
 "metadata": {
  "language_info": {
   "codemirror_mode": {
    "name": "ipython",
    "version": 3
   },
   "file_extension": ".py",
   "mimetype": "text/x-python",
   "name": "python",
   "nbconvert_exporter": "python",
   "pygments_lexer": "ipython3",
   "version": "3.11.6"
  }
 },
 "nbformat": 4,
 "nbformat_minor": 2
}
