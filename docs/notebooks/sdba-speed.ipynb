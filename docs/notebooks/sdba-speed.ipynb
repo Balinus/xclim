{
 "cells": [
  {
   "cell_type": "code",
   "execution_count": null,
   "metadata": {},
   "outputs": [],
   "source": [
    "from __future__ import annotations\n",
    "\n",
    "import importlib\n",
    "import os\n",
    "import time\n",
    "\n",
    "import numpy as np\n",
    "\n",
    "from xclim import sdba\n",
    "\n",
    "q = 50\n",
    "sizes = [25, 50, 75, 100, 200, 300, 400, 500, 600, 700, 800, 900, 1000, 1500, 2000]\n",
    "tsort = np.zeros(len(sizes))\n",
    "tnan = np.zeros(len(sizes))\n",
    "num_tests = 500\n",
    "\n",
    "os.environ[\"USE_NANQUANTILE\"] = \"\"\n",
    "importlib.reload(sdba.nbutils)\n",
    "sdba.nbutils._choosequantile(np.random.randn(100), np.array([0.5]))\n",
    "for i in range(len(sizes)):\n",
    "    for k in range(num_tests):\n",
    "        arr = np.random.randn(sizes[i])\n",
    "        t0 = time.time()\n",
    "        sdba.nbutils._choosequantile(arr, np.linspace(0, 1, q))\n",
    "        tsort[i] += time.time() - t0\n",
    "\n",
    "os.environ[\"USE_NANQUANTILE\"] = \"True\"\n",
    "importlib.reload(sdba.nbutils)\n",
    "sdba.nbutils._choosequantile(np.random.randn(100), np.array([0.5]))\n",
    "for i in range(len(sizes)):\n",
    "    for k in range(num_tests):\n",
    "        arr = np.random.randn(sizes[i])\n",
    "        t0 = time.time()\n",
    "        sdba.nbutils._choosequantile(arr, np.linspace(0, 1, q))\n",
    "        tnan[i] += time.time() - t0\n",
    "print(\n",
    "    \"\\n\".join(\n",
    "        [\n",
    "            f\"{x:4.0f}, {y:.5f}, {z:.5f}, {z / y:.2f}\"\n",
    "            for x, y, z in zip(sizes, tsort, tnan)\n",
    "        ]\n",
    "    )\n",
    ")\n",
    "import matplotlib.pyplot as plt\n",
    "\n",
    "plt.plot(sizes, tsort / num_tests, label=\"sortquantile\")\n",
    "plt.plot(sizes, tnan / num_tests, label=\"nanquantile\")\n",
    "plt.legend()\n",
    "plt.title(\n",
    "    \"Quantile calculation using sortquantile and nanquantile, average time vs array size, for 50 quantiles\"\n",
    ")\n",
    "plt.xlabel(\"Array size\")\n",
    "plt.ylabel(\"Time (s)\")"
   ]
  },
  {
   "cell_type": "code",
   "execution_count": null,
   "metadata": {},
   "outputs": [],
   "source": [
    "plt.plot(sizes, tnan / tsort, label=\"Ratio of times, nanquantile / sortquantile\")\n",
    "plt.legend()\n",
    "plt.title(\"Ratio of times, nanquantile / sortquantile\")\n",
    "plt.xlabel(\"Array size\")\n",
    "plt.ylabel(\"Time ratio\")"
   ]
  }
 ],
 "metadata": {
  "language_info": {
   "codemirror_mode": {
    "name": "ipython",
    "version": 3
   },
   "file_extension": ".py",
   "mimetype": "text/x-python",
   "name": "python",
   "nbconvert_exporter": "python",
   "pygments_lexer": "ipython3",
   "version": "3.11.6"
  }
 },
 "nbformat": 4,
 "nbformat_minor": 2
}
