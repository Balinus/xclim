{
 "cells": [
  {
   "cell_type": "markdown",
   "metadata": {},
   "source": [
    "# xclim: Software ecosystem for climate services"
   ]
  },
  {
   "cell_type": "markdown",
   "metadata": {},
   "source": [
    "## Author(s)\n",
    "List authors, their current affiliations,  up-to-date contact information, and ORCID if available. Add as many author lines as you need. \n",
    "\n",
    "- Author1 = {\"name\": \"Pascal Bourgault\", \"affiliation\": \"Ouranos Inc\", \"email\": \"bourgault.pascal@ouranos.ca\"}\n",
    "- Author2 = {\"name\": \"Travis Logan\", \"affiliation\": \"Ouranos Inc\", \"email\": \"logan.travis@ouranos.ca\", \"orcid\": \"orcid\"}\n",
    "- Author3 = {\"name\": \"David Huard\", \"affiliation\": \"Ouranos Inc\", \"email\": \"huard.david@ouranos.ca\", \"orcid\": \"orcid\"}\n",
    "- Author4 = {\"name\": \"Trevor J. Smith\", \"affiliation\": \"Ouranos Inc\", \"email\": \"smith.trevorj@ouranos.ca\", \"orcid\": \"orcid\"}"
   ]
  },
  {
   "cell_type": "markdown",
   "metadata": {
    "toc": true
   },
   "source": [
    "<h1>Table of Contents<span class=\"tocSkip\"></span></h1>\n",
    "<div class=\"toc\"><ul class=\"toc-item\"><li><span><a href=\"#Template-Notebook-for-EarthCube---Long-Version\" data-toc-modified-id=\"Template-Notebook-for-EarthCube---Long-Version-1\"><span class=\"toc-item-num\">1&nbsp;&nbsp;</span>Template Notebook for EarthCube - Long Version</a></span><ul class=\"toc-item\"><li><span><a href=\"#Author(s)\" data-toc-modified-id=\"Author(s)-1.1\"><span class=\"toc-item-num\">1.1&nbsp;&nbsp;</span>Author(s)</a></span></li><li><span><a href=\"#Purpose\" data-toc-modified-id=\"Purpose-1.2\"><span class=\"toc-item-num\">1.2&nbsp;&nbsp;</span>Purpose</a></span></li><li><span><a href=\"#Technical-contributions\" data-toc-modified-id=\"Technical-contributions-1.3\"><span class=\"toc-item-num\">1.3&nbsp;&nbsp;</span>Technical contributions</a></span></li><li><span><a href=\"#Methodology\" data-toc-modified-id=\"Methodology-1.4\"><span class=\"toc-item-num\">1.4&nbsp;&nbsp;</span>Methodology</a></span></li><li><span><a href=\"#Results\" data-toc-modified-id=\"Results-1.5\"><span class=\"toc-item-num\">1.5&nbsp;&nbsp;</span>Results</a></span></li><li><span><a href=\"#Funding\" data-toc-modified-id=\"Funding-1.6\"><span class=\"toc-item-num\">1.6&nbsp;&nbsp;</span>Funding</a></span></li><li><span><a href=\"#Keywords\" data-toc-modified-id=\"Keywords-1.7\"><span class=\"toc-item-num\">1.7&nbsp;&nbsp;</span>Keywords</a></span></li><li><span><a href=\"#Citation\" data-toc-modified-id=\"Citation-1.8\"><span class=\"toc-item-num\">1.8&nbsp;&nbsp;</span>Citation</a></span></li><li><span><a href=\"#Work-In-Progress---improvements\" data-toc-modified-id=\"Work-In-Progress---improvements-1.9\"><span class=\"toc-item-num\">1.9&nbsp;&nbsp;</span>Work In Progress - improvements</a></span></li><li><span><a href=\"#Suggested-next-steps\" data-toc-modified-id=\"Suggested-next-steps-1.10\"><span class=\"toc-item-num\">1.10&nbsp;&nbsp;</span>Suggested next steps</a></span></li><li><span><a href=\"#Acknowledgements\" data-toc-modified-id=\"Acknowledgements-1.11\"><span class=\"toc-item-num\">1.11&nbsp;&nbsp;</span>Acknowledgements</a></span></li></ul></li><li><span><a href=\"#Setup\" data-toc-modified-id=\"Setup-2\"><span class=\"toc-item-num\">2&nbsp;&nbsp;</span>Setup</a></span><ul class=\"toc-item\"><li><span><a href=\"#Library-import\" data-toc-modified-id=\"Library-import-2.1\"><span class=\"toc-item-num\">2.1&nbsp;&nbsp;</span>Library import</a></span></li><li><span><a href=\"#Local-library-import\" data-toc-modified-id=\"Local-library-import-2.2\"><span class=\"toc-item-num\">2.2&nbsp;&nbsp;</span>Local library import</a></span></li></ul></li><li><span><a href=\"#Parameter-definitions\" data-toc-modified-id=\"Parameter-definitions-3\"><span class=\"toc-item-num\">3&nbsp;&nbsp;</span>Parameter definitions</a></span></li><li><span><a href=\"#Data-import\" data-toc-modified-id=\"Data-import-4\"><span class=\"toc-item-num\">4&nbsp;&nbsp;</span>Data import</a></span></li><li><span><a href=\"#Data-processing-and-analysis\" data-toc-modified-id=\"Data-processing-and-analysis-5\"><span class=\"toc-item-num\">5&nbsp;&nbsp;</span>Data processing and analysis</a></span><ul class=\"toc-item\"><li><span><a href=\"#The-10-rules\" data-toc-modified-id=\"The-10-rules-5.1\"><span class=\"toc-item-num\">5.1&nbsp;&nbsp;</span>The 10 rules</a></span></li><li><span><a href=\"#Using-notebook-template\" data-toc-modified-id=\"Using-notebook-template-5.2\"><span class=\"toc-item-num\">5.2&nbsp;&nbsp;</span>Using notebook template</a></span></li><li><span><a href=\"#Adding-table-of-contents\" data-toc-modified-id=\"Adding-table-of-contents-5.3\"><span class=\"toc-item-num\">5.3&nbsp;&nbsp;</span>Adding table of contents</a></span></li><li><span><a href=\"#Creating-Binder-and-Docker-for-your-notebook-repository\" data-toc-modified-id=\"Creating-Binder-and-Docker-for-your-notebook-repository-5.4\"><span class=\"toc-item-num\">5.4&nbsp;&nbsp;</span>Creating Binder and Docker for your notebook repository</a></span></li></ul></li><li><span><a href=\"#References\" data-toc-modified-id=\"References-6\"><span class=\"toc-item-num\">6&nbsp;&nbsp;</span>References</a></span></li></ul></div>"
   ]
  },
  {
   "cell_type": "markdown",
   "metadata": {},
   "source": [
    "## Purpose\n",
    "This notebook presents the [`xclim`](https://xclim.readthedocs.io/en/stable/) python package and how it can be used to power climate analysis workflows. It goes in details on what tools xclim provides, how it can simplify and standardize climate analyses workflows. The notebook also demontrates how xclim can be used as a Web Processing Service ([WPS](http://opengeospatial.github.io/e-learning/wps/text/basic-main.html)) through [`finch`](https://pavics-sdi.readthedocs.io/projects/finch/en/latest/). The notebook is developped for Python 3.7+, but expects an special python environment and a running instance of finch. The configuration is optimized for running on `binder`.\n",
    "\n",
    "\n",
    "## Technical contributions\n",
    "- Development of a climate analysis library regrouping many different tools, with special attention to community standards (especially [CF](cfconventions.org/)) and computationnally efficient implementations.\n",
    "  * Climate indices computation in a standard manner with numerically efficient algorithms\n",
    "  * Ensemble tools for computing ensemble statistics and robustness\n",
    "  * Bias-adjustment algorithms\n",
    "  * Other tools (not shown in this notebook) (subsetting, spatial analogs, calendar conversions)\n",
    "- Development of a web service exposing climate analysis processes through OGC's WPS protocol\n",
    "\n",
    "\n",
    "## Methodology\n",
    "This notebook shows two examples of climate analysis workflows:\n",
    "\n",
    "1. Calculating climate indices on an ensemble of simulation data and computing ensemble statistics.\n",
    "2. Bias-adjustment of model data\n",
    "\n",
    "Part of the first workflow will be repeated, but this time dispatching the computation to a (locally running) web service (`finch`), simulating use of xclim's tools in the cloud.\n",
    "\n",
    "The examples will interleave code and markdown cells to describe what is being done. It will also include some  visualization using holoviews, in order to give a clearer idea of what was achieved.\n",
    "\n",
    "## Results\n",
    "This notebook demontrates how the use of xclim can help simplify and standardize climate analysis workflows. \n",
    "\n",
    "\n",
    "## Funding\n",
    "Include references to awards that supported this research. Add as many award references as you need.\n",
    "\n",
    "- Award1 = {\"agency\": \"US National Science Foundation\", \"award_code\": \"1928208\", \"award_URL\": \"https://www.nsf.gov/awardsearch/showAward?AWD_ID=1928208\"}\n",
    "- Award2 = {\"agency\": \"agency\", \"award_code\": \"award_code\", \"award_URL\": \"award_URL\"}\n",
    "- Award3 = ...\n",
    "\n",
    "## Keywords\n",
    "\n",
    "keywords=[\"climate\", \"xarray\", \"bias-adjustment\", \"wps\"]\n",
    "\n",
    "## Citation\n",
    "\n",
    "Bourgault, Pascal et al. Ouranos Inc, 2021. xclim: Software ecosystem for climate services. Accessed 2021/05/15 at https://github.com/Ouranosinc/xclim/blob/earthcube-nb/docs/notebooks/PB_01_xclim_Software_ecosystem_for_climate_services.ipynb\n",
    "\n",
    "\n",
    "## Suggested next steps\n",
    "\n",
    "After reading through this notebook, we recommend looking at xclim's documentation, especially the [examples](https://xclim.readthedocs.io/en/stable/notebooks/index.html) page, where other notebooks extend the examples shown here. Xclim offers other features that were not shown here, but might be of interest for at least part of the readers : [a spatial analogs submodule](https://xclim.readthedocs.io/en/stable/api.html#module-xclim.analog) and [internationalization utilities](https://xclim.readthedocs.io/en/stable/internationalization.html), among others. The [list of indicators](https://xclim.readthedocs.io/en/stable/indicators.html) is also a good stop. The list is constantly growing, including indicators ranging from the simple but universal [list from ECAD](https://xclim.readthedocs.io/en/stable/indicators.html#icclim-indices) to more complex and specialized one, like the [Fire Weather Indexes](https://xclim.readthedocs.io/en/stable/indices.html#fire-weather-indices-submodule).\n",
    "\n",
    "The web service demontrated here is part of the [`bird-house`](http://bird-house.github.io/) ecosystem and project. It is used by different projects, for example [PAVICS](https://pavics.ouranos.ca/), \n",
    "\n",
    "\n",
    "## Acknowledgements \n",
    "\n",
    "Include any relevant acknowledgements, apart from funding (which was in section 1.6)\n",
    "\n",
    "This notebook template extends the original notebook template provided with the jupytemplate extension [5]. It is a result of collaboration between the TAC Working Group and the EarthCube Office. \n",
    "\n",
    "The template is licensed under a <a href=\"http://creativecommons.org/licenses/by/4.0/\">Creative Commons Attribution 4.0 International License.</a>"
   ]
  },
  {
   "cell_type": "markdown",
   "metadata": {},
   "source": [
    "# Setup\n",
    "\n",
    "## Library import"
   ]
  },
  {
   "cell_type": "code",
   "execution_count": null,
   "metadata": {},
   "outputs": [],
   "source": [
    "import xclim as xc\n",
    "# Also import some submodules for direct access\n",
    "from xclim import ensembles  # Ensemble creation and statistics\n",
    "from xclim import sdba  # Bias-adjustment\n",
    "\n",
    "# Data manipulation\n",
    "import xarray as xr\n",
    "from xclim.testing import open_dataset\n",
    "\n",
    "# For interacting with finch WPS\n",
    "import birdy\n",
    "\n",
    "# Visualizations\n",
    "import hvplot"
   ]
  },
  {
   "cell_type": "markdown",
   "metadata": {},
   "source": [
    "# Data import\n",
    "\n",
    "Data importation will be done as we go in the notebook, but we present the datasets here. The first part will use model data from the Canadian Centre for Climate Modelling and Analysis (CCCma). The data was produced as part of the CMIP5 project with the [CanESM2 model](https://www.canada.ca/en/environment-climate-change/services/climate-change/science-research-data/modeling-projections-analysis/centre-modelling-analysis/models/second-generation-earth-system-model.html), following RCP8.5. The notebook ships with 5 realizations of the model, for the \"future\" period (2006-2100) and on a single point. The data is publicly available and under its own license, stored in its attributes."
   ]
  },
  {
   "cell_type": "code",
   "execution_count": null,
   "metadata": {},
   "outputs": [],
   "source": [
    "!du -hs earthcube_data/*.nc"
   ]
  },
  {
   "cell_type": "markdown",
   "metadata": {},
   "source": [
    "The second example, dealing with bias-adjustment, will use 2 sources. The model data comes from the same source as the files discussed above, but including the historical simulations (total: 1950-2100). The reference timeseries are extracted from the Adjusted and Homogenized Canadian Climate Data ([AHCCD](https://open.canada.ca/data/en/dataset/9c4ebc00-3ea4-4fe0-8bf2-66cfe1cddd1d)), from Environment and Climate Change Canada, distributed under the Open Government Licence (Canada). We chose three weather stations representative of a reasonable range of climatic conditions and extracted timeseries over those locations from the model data."
   ]
  },
  {
   "cell_type": "markdown",
   "metadata": {},
   "source": [
    "# Data processing and analysis\n",
    "\n",
    "## 1. Climate indices computation and ensemble statistics\n",
    "\n",
    "A large part of climate data analytics is based on the computation and comparison of climate indices. Xclim's main goal is to make it easier for researchers to process climate data and calculate those indices. As its name suggests, xclim is built upon [`xarray`](xarray.pydata.org/) which itself makes it easy to scale computations using [`dask`](https://dask.org). \n",
    "\n",
    "At first glance, xclim is a large library of those climate indices, all regrouped in categories (CMIP's \"realms\") for convenience."
   ]
  },
  {
   "cell_type": "markdown",
   "metadata": {},
   "source": [
    "# References\n",
    "List relevant references.\n",
    "\n",
    "1. Notebook sharing guidelines from reproducible-science-curriculum: https://reproducible-science-curriculum.github.io/publication-RR-Jupyter/\n",
    "2. Guide for developing shareable notebooks by Kevin Coakley, SDSC: https://github.com/kevincoakley/sharing-jupyter-notebooks/raw/master/Jupyter-Notebooks-Sharing-Recommendations.pdf\n",
    "3. Guide for sharing notebooks by Andrea Zonca, SDSC: https://zonca.dev/2020/09/how-to-share-jupyter-notebooks.html\n",
    "4. Jupyter Notebook Best Practices: https://towardsdatascience.com/jupyter-notebook-best-practices-f430a6ba8c69\n",
    "5. Introduction to Jupyter templates nbextension: https://towardsdatascience.com/stop-copy-pasting-notebooks-embrace-jupyter-templates-6bd7b6c00b94  \n",
    "    5.1. Table of Contents (Toc2) readthedocs: https://jupyter-contrib-nbextensions.readthedocs.io/en/latest/nbextensions/toc2/README.html  \n",
    "    5.2. Steps to install toc2: https://stackoverflow.com/questions/23435723/installing-ipython-notebook-table-of-contents\n",
    "6. Rule A, Birmingham A, Zuniga C, Altintas I, Huang SC, et al. (2019) Ten simple rules for writing and sharing computational analyses in Jupyter Notebooks. PLOS Computational Biology 15(7): e1007007. https://doi.org/10.1371/journal.pcbi.1007007. Supplementary materials: example notebooks (https://github.com/jupyter-guide/ten-rules-jupyter) and tutorial (https://github.com/ISMB-ECCB-2019-Tutorial-AM4/reproducible-computational-workflows)\n",
    "7. Languages supported by Jupyter kernels: https://github.com/jupyter/jupyter/wiki/Jupyter-kernels\n",
    "8. EarthCube notebooks presented at EC Annual Meeting 2020: https://www.earthcube.org/notebooks\n",
    "9. Manage your Python Virtual Environment with Conda: https://towardsdatascience.com/manage-your-python-virtual-environment-with-conda-a0d2934d5195\n",
    "10. Venv - Creation of Virtual Environments: https://docs.python.org/3/library/venv.html"
   ]
  },
  {
   "cell_type": "code",
   "execution_count": null,
   "metadata": {},
   "outputs": [],
   "source": []
  }
 ],
 "metadata": {
  "kernelspec": {
   "display_name": "Python 3",
   "language": "python",
   "name": "python3"
  },
  "language_info": {
   "codemirror_mode": {
    "name": "ipython",
    "version": 3
   },
   "file_extension": ".py",
   "mimetype": "text/x-python",
   "name": "python",
   "nbconvert_exporter": "python",
   "pygments_lexer": "ipython3",
   "version": "3.9.2"
  },
  "toc": {
   "base_numbering": 1,
   "nav_menu": {},
   "number_sections": true,
   "sideBar": true,
   "skip_h1_title": false,
   "title_cell": "Table of Contents",
   "title_sidebar": "Contents",
   "toc_cell": true,
   "toc_position": {
    "height": "calc(100% - 180px)",
    "left": "10px",
    "top": "150px",
    "width": "248.182px"
   },
   "toc_section_display": true,
   "toc_window_display": true
  }
 },
 "nbformat": 4,
 "nbformat_minor": 4
}
