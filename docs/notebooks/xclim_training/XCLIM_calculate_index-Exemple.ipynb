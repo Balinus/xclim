{
 "cells": [
  {
   "cell_type": "markdown",
   "metadata": {},
   "source": [
    "## Import libraries"
   ]
  },
  {
   "cell_type": "code",
   "execution_count": 1,
   "metadata": {},
   "outputs": [
    {
     "name": "stderr",
     "output_type": "stream",
     "text": [
      "WARNING:py.warnings:/usr/local/DEV/miniconda3/envs/py366/lib/python3.6/site-packages/xarray/core/options.py:50: FutureWarning: The enable_cftimeindex option is now a no-op and will be removed in a future version of xarray.\n",
      "  FutureWarning)\n",
      "\n"
     ]
    }
   ],
   "source": [
    "# XCLIM and xarray\n",
    "import xclim.indices as xci\n",
    "import xclim.temperature as temp\n",
    "import xclim.precip as prec\n",
    "import numpy as np\n",
    "import xclim.utils as xut\n",
    "import xarray as xr\n",
    "import dask\n",
    "\n",
    "# file handling libraries\n",
    "import os\n",
    "import glob\n",
    "import time"
   ]
  },
  {
   "cell_type": "markdown",
   "metadata": {},
   "source": [
    "## 1. Setting up the Dask client - Parralel processing / workers"
   ]
  },
  {
   "cell_type": "code",
   "execution_count": 2,
   "metadata": {},
   "outputs": [
    {
     "name": "stderr",
     "output_type": "stream",
     "text": [
      "DEBUG:asyncio:Using selector: EpollSelector\n",
      "DEBUG:asyncio:Using selector: EpollSelector\n"
     ]
    },
    {
     "data": {
      "text/html": [
       "<table style=\"border: 2px solid white;\">\n",
       "<tr>\n",
       "<td style=\"vertical-align: top; border: 0px solid white\">\n",
       "<h3>Client</h3>\n",
       "<ul>\n",
       "  <li><b>Scheduler: </b>tcp://127.0.0.1:39481\n",
       "  <li><b>Dashboard: </b><a href='http://127.0.0.1:8787/status' target='_blank'>http://127.0.0.1:8787/status</a>\n",
       "</ul>\n",
       "</td>\n",
       "<td style=\"vertical-align: top; border: 0px solid white\">\n",
       "<h3>Cluster</h3>\n",
       "<ul>\n",
       "  <li><b>Workers: </b>5</li>\n",
       "  <li><b>Cores: </b>30</li>\n",
       "  <li><b>Memory: </b>15.00 GB</li>\n",
       "</ul>\n",
       "</td>\n",
       "</tr>\n",
       "</table>"
      ],
      "text/plain": [
       "<Client: scheduler='tcp://127.0.0.1:39481' processes=5 cores=30>"
      ]
     },
     "execution_count": 2,
     "metadata": {},
     "output_type": "execute_result"
    }
   ],
   "source": [
    "from distributed import Client\n",
    "client=Client(n_workers=5, threads_per_worker=6, diagnostics_port=8787, memory_limit='3GB') \n",
    "#client=Client(n_workers=1)\n",
    "client"
   ]
  },
  {
   "cell_type": "markdown",
   "metadata": {},
   "source": [
    "## 2. Finding files using thredds server (TODO using siphon)"
   ]
  },
  {
   "cell_type": "code",
   "execution_count": 3,
   "metadata": {},
   "outputs": [
    {
     "name": "stdout",
     "output_type": "stream",
     "text": [
      "['/home/logan/boreas/ouranos/cb-oura-1.0/ACCESS1-3', '/home/logan/boreas/ouranos/cb-oura-1.0/BNU-ESM', '/home/logan/boreas/ouranos/cb-oura-1.0/CMCC-CMS', '/home/logan/boreas/ouranos/cb-oura-1.0/CanESM2', '/home/logan/boreas/ouranos/cb-oura-1.0/GFDL-ESM2M', '/home/logan/boreas/ouranos/cb-oura-1.0/HadGEM2-CC', '/home/logan/boreas/ouranos/cb-oura-1.0/INM-CM4', '/home/logan/boreas/ouranos/cb-oura-1.0/IPSL-CM5A-LR', '/home/logan/boreas/ouranos/cb-oura-1.0/IPSL-CM5B-LR', '/home/logan/boreas/ouranos/cb-oura-1.0/MPI-ESM-LR', '/home/logan/boreas/ouranos/cb-oura-1.0/NorESM1-M']\n",
      "151\n"
     ]
    }
   ],
   "source": [
    "infolder = '/home/logan/boreas/ouranos/cb-oura-1.0/'\n",
    "outfolder = '/home/logan/boreas/testdata/XCLIM_workshop/Exercise1/'\n",
    "if not os.path.exists(outfolder):\n",
    "    os.makedirs(outfolder)\n",
    "models = [f.path for f in glob.os.scandir(infolder) if f.is_dir()]\n",
    "models = sorted(models)\n",
    "print(models)\n",
    "\n",
    "rcps = ['rcp45','rcp85']\n",
    "v = 'tasmax'\n",
    "m = models[0]\n",
    "r = rcps[0]\n",
    "# Get list of files for tasmax\n",
    "sim_files= sorted(glob.glob(os.path.join(m,r,'day',v, '*.nc')))\n",
    "print(len(sim_files))"
   ]
  },
  {
   "cell_type": "markdown",
   "metadata": {},
   "source": [
    "## 3. Creating Xarray datasets & dask chunks"
   ]
  },
  {
   "cell_type": "code",
   "execution_count": 4,
   "metadata": {},
   "outputs": [
    {
     "name": "stdout",
     "output_type": "stream",
     "text": [
      "<xarray.DataArray 'tasmax' (time: 365, lat: 700, lon: 1064)>\n",
      "[271852000 values with dtype=float32]\n",
      "Coordinates:\n",
      "  * time     (time) datetime64[ns] 1950-01-01 1950-01-02 ... 1950-12-31\n",
      "  * lat      (lat) float32 83.28931 83.20598 83.12265 ... 25.12497 25.04164\n",
      "  * lon      (lon) float32 -141.04314 -140.9598 ... -52.54667 -52.46334\n",
      "Attributes:\n",
      "    units:          K\n",
      "    long_name:      air_temperature\n",
      "    standard_name:  air_temperature\n"
     ]
    }
   ],
   "source": [
    "# chunked vs unchunked\n",
    "ds = xr.open_dataset(sim_files[0])\n",
    "print(ds.tasmax)"
   ]
  },
  {
   "cell_type": "code",
   "execution_count": 5,
   "metadata": {},
   "outputs": [
    {
     "name": "stdout",
     "output_type": "stream",
     "text": [
      "<xarray.DataArray 'tasmax' (time: 365, lat: 700, lon: 1064)>\n",
      "dask.array<shape=(365, 700, 1064), dtype=float32, chunksize=(31, 700, 1064)>\n",
      "Coordinates:\n",
      "  * time     (time) datetime64[ns] 1950-01-01 1950-01-02 ... 1950-12-31\n",
      "  * lat      (lat) float32 83.28931 83.20598 83.12265 ... 25.12497 25.04164\n",
      "  * lon      (lon) float32 -141.04314 -140.9598 ... -52.54667 -52.46334\n",
      "Attributes:\n",
      "    units:          K\n",
      "    long_name:      air_temperature\n",
      "    standard_name:  air_temperature\n"
     ]
    }
   ],
   "source": [
    "ds = xr.open_dataset(sim_files[0], chunks={'time':31})\n",
    "print(ds.tasmax)"
   ]
  },
  {
   "cell_type": "markdown",
   "metadata": {},
   "source": [
    "## 4. Multifile dataset - treat 151 yearly netcdf files as a single dataset"
   ]
  },
  {
   "cell_type": "code",
   "execution_count": 6,
   "metadata": {},
   "outputs": [
    {
     "name": "stdout",
     "output_type": "stream",
     "text": [
      "<xarray.Dataset>\n",
      "Dimensions:  (lat: 700, lon: 1064, time: 55152)\n",
      "Coordinates:\n",
      "  * lat      (lat) float32 83.28931 83.20598 83.12265 ... 25.12497 25.04164\n",
      "  * lon      (lon) float32 -141.04314 -140.9598 ... -52.54667 -52.46334\n",
      "  * time     (time) datetime64[ns] 1950-01-01 1950-01-02 ... 2100-12-31\n",
      "Data variables:\n",
      "    tasmax   (time, lat, lon) float32 dask.array<shape=(55152, 700, 1064), chunksize=(365, 100, 112)>\n",
      "Attributes:\n",
      "    Conventions:     CF-1.5\n",
      "    title:           ACCESS1-3 model output prepared for CMIP5 historical\n",
      "    history:         CMIP5 compliant file produced from raw ACCESS model outp...\n",
      "    institution:     CSIRO (Commonwealth Scientific and Industrial Research O...\n",
      "    source:          ACCESS1-3 2011. Atmosphere: AGCM v1.0 (N96 grid-point, 1...\n",
      "    redistribution:  Redistribution prohibited. For internal use only.\n"
     ]
    }
   ],
   "source": [
    "# create multifile data & chunks \n",
    "ds = xr.open_mfdataset(sim_files, chunks={'time':365*3, 'lat':50*2, 'lon':56*2})\n",
    "ds = ds.drop('time_vectors')\n",
    "ds = ds.drop('ts')\n",
    "print(ds)"
   ]
  },
  {
   "cell_type": "markdown",
   "metadata": {},
   "source": [
    "## 5. Subsetting data"
   ]
  },
  {
   "cell_type": "code",
   "execution_count": 7,
   "metadata": {},
   "outputs": [
    {
     "name": "stdout",
     "output_type": "stream",
     "text": [
      "<xarray.Dataset>\n",
      "Dimensions:  (lat: 180, lon: 324, time: 55152)\n",
      "Coordinates:\n",
      "  * lat      (lat) float32 59.95691 59.87358 59.79025 ... 45.12417 45.04084\n",
      "  * lon      (lon) float32 -81.96216 -81.87883 -81.7955 ... -55.1299 -55.04657\n",
      "  * time     (time) datetime64[ns] 1950-01-01 1950-01-02 ... 2100-12-31\n",
      "Data variables:\n",
      "    tasmax   (time, lat, lon) float32 dask.array<shape=(55152, 180, 324), chunksize=(365, 20, 75)>\n",
      "Attributes:\n",
      "    Conventions:     CF-1.5\n",
      "    title:           ACCESS1-3 model output prepared for CMIP5 historical\n",
      "    history:         CMIP5 compliant file produced from raw ACCESS model outp...\n",
      "    institution:     CSIRO (Commonwealth Scientific and Industrial Research O...\n",
      "    source:          ACCESS1-3 2011. Atmosphere: AGCM v1.0 (N96 grid-point, 1...\n",
      "    redistribution:  Redistribution prohibited. For internal use only.\n"
     ]
    }
   ],
   "source": [
    "lat_bnds = [45, 60]\n",
    "lon_bnds = [-55, -82]\n",
    "\n",
    "ds = xut.subset_bbox(ds,lat_bnds=lat_bnds,lon_bnds=lon_bnds)\n",
    "print(ds)"
   ]
  },
  {
   "cell_type": "markdown",
   "metadata": {},
   "source": [
    "## 6. Climate index calculation & Resampling frequencies\n",
    "http://pandas.pydata.org/pandas-docs/stable/user_guide/timeseries.html#timeseries-offset-aliases\n",
    "\n",
    "**Example : Maximum of daily tasmax (tx_max)**"
   ]
  },
  {
   "cell_type": "code",
   "execution_count": 8,
   "metadata": {
    "scrolled": true
   },
   "outputs": [
    {
     "name": "stderr",
     "output_type": "stream",
     "text": [
      "WARNING:py.warnings:/usr/local/DEV/miniconda3/envs/py366/lib/python3.6/site-packages/xclim/checks.py:30: UserWarning: Variable does not have a `cell_methods` attribute.\n",
      "  warn(e)\n",
      "\n"
     ]
    },
    {
     "name": "stdout",
     "output_type": "stream",
     "text": [
      "Number of time-steps using freq ==  YS  :  151 \n",
      "\n",
      "<xarray.DataArray 'time' (time: 151)>\n",
      "array(['1950-01-01T00:00:00.000000000', '1951-01-01T00:00:00.000000000',\n",
      "       '1952-01-01T00:00:00.000000000', '1953-01-01T00:00:00.000000000',\n",
      "       '1954-01-01T00:00:00.000000000', '1955-01-01T00:00:00.000000000',\n",
      "       '1956-01-01T00:00:00.000000000', '1957-01-01T00:00:00.000000000',\n",
      "       '1958-01-01T00:00:00.000000000', '1959-01-01T00:00:00.000000000',\n",
      "       '1960-01-01T00:00:00.000000000', '1961-01-01T00:00:00.000000000',\n",
      "       '1962-01-01T00:00:00.000000000', '1963-01-01T00:00:00.000000000',\n",
      "       '1964-01-01T00:00:00.000000000', '1965-01-01T00:00:00.000000000',\n",
      "       '1966-01-01T00:00:00.000000000', '1967-01-01T00:00:00.000000000',\n",
      "       '1968-01-01T00:00:00.000000000', '1969-01-01T00:00:00.000000000',\n",
      "       '1970-01-01T00:00:00.000000000', '1971-01-01T00:00:00.000000000',\n",
      "       '1972-01-01T00:00:00.000000000', '1973-01-01T00:00:00.000000000',\n",
      "       '1974-01-01T00:00:00.000000000', '1975-01-01T00:00:00.000000000',\n",
      "       '1976-01-01T00:00:00.000000000', '1977-01-01T00:00:00.000000000',\n",
      "       '1978-01-01T00:00:00.000000000', '1979-01-01T00:00:00.000000000',\n",
      "       '1980-01-01T00:00:00.000000000', '1981-01-01T00:00:00.000000000',\n",
      "       '1982-01-01T00:00:00.000000000', '1983-01-01T00:00:00.000000000',\n",
      "       '1984-01-01T00:00:00.000000000', '1985-01-01T00:00:00.000000000',\n",
      "       '1986-01-01T00:00:00.000000000', '1987-01-01T00:00:00.000000000',\n",
      "       '1988-01-01T00:00:00.000000000', '1989-01-01T00:00:00.000000000',\n",
      "       '1990-01-01T00:00:00.000000000', '1991-01-01T00:00:00.000000000',\n",
      "       '1992-01-01T00:00:00.000000000', '1993-01-01T00:00:00.000000000',\n",
      "       '1994-01-01T00:00:00.000000000', '1995-01-01T00:00:00.000000000',\n",
      "       '1996-01-01T00:00:00.000000000', '1997-01-01T00:00:00.000000000',\n",
      "       '1998-01-01T00:00:00.000000000', '1999-01-01T00:00:00.000000000',\n",
      "       '2000-01-01T00:00:00.000000000', '2001-01-01T00:00:00.000000000',\n",
      "       '2002-01-01T00:00:00.000000000', '2003-01-01T00:00:00.000000000',\n",
      "       '2004-01-01T00:00:00.000000000', '2005-01-01T00:00:00.000000000',\n",
      "       '2006-01-01T00:00:00.000000000', '2007-01-01T00:00:00.000000000',\n",
      "       '2008-01-01T00:00:00.000000000', '2009-01-01T00:00:00.000000000',\n",
      "       '2010-01-01T00:00:00.000000000', '2011-01-01T00:00:00.000000000',\n",
      "       '2012-01-01T00:00:00.000000000', '2013-01-01T00:00:00.000000000',\n",
      "       '2014-01-01T00:00:00.000000000', '2015-01-01T00:00:00.000000000',\n",
      "       '2016-01-01T00:00:00.000000000', '2017-01-01T00:00:00.000000000',\n",
      "       '2018-01-01T00:00:00.000000000', '2019-01-01T00:00:00.000000000',\n",
      "       '2020-01-01T00:00:00.000000000', '2021-01-01T00:00:00.000000000',\n",
      "       '2022-01-01T00:00:00.000000000', '2023-01-01T00:00:00.000000000',\n",
      "       '2024-01-01T00:00:00.000000000', '2025-01-01T00:00:00.000000000',\n",
      "       '2026-01-01T00:00:00.000000000', '2027-01-01T00:00:00.000000000',\n",
      "       '2028-01-01T00:00:00.000000000', '2029-01-01T00:00:00.000000000',\n",
      "       '2030-01-01T00:00:00.000000000', '2031-01-01T00:00:00.000000000',\n",
      "       '2032-01-01T00:00:00.000000000', '2033-01-01T00:00:00.000000000',\n",
      "       '2034-01-01T00:00:00.000000000', '2035-01-01T00:00:00.000000000',\n",
      "       '2036-01-01T00:00:00.000000000', '2037-01-01T00:00:00.000000000',\n",
      "       '2038-01-01T00:00:00.000000000', '2039-01-01T00:00:00.000000000',\n",
      "       '2040-01-01T00:00:00.000000000', '2041-01-01T00:00:00.000000000',\n",
      "       '2042-01-01T00:00:00.000000000', '2043-01-01T00:00:00.000000000',\n",
      "       '2044-01-01T00:00:00.000000000', '2045-01-01T00:00:00.000000000',\n",
      "       '2046-01-01T00:00:00.000000000', '2047-01-01T00:00:00.000000000',\n",
      "       '2048-01-01T00:00:00.000000000', '2049-01-01T00:00:00.000000000',\n",
      "       '2050-01-01T00:00:00.000000000', '2051-01-01T00:00:00.000000000',\n",
      "       '2052-01-01T00:00:00.000000000', '2053-01-01T00:00:00.000000000',\n",
      "       '2054-01-01T00:00:00.000000000', '2055-01-01T00:00:00.000000000',\n",
      "       '2056-01-01T00:00:00.000000000', '2057-01-01T00:00:00.000000000',\n",
      "       '2058-01-01T00:00:00.000000000', '2059-01-01T00:00:00.000000000',\n",
      "       '2060-01-01T00:00:00.000000000', '2061-01-01T00:00:00.000000000',\n",
      "       '2062-01-01T00:00:00.000000000', '2063-01-01T00:00:00.000000000',\n",
      "       '2064-01-01T00:00:00.000000000', '2065-01-01T00:00:00.000000000',\n",
      "       '2066-01-01T00:00:00.000000000', '2067-01-01T00:00:00.000000000',\n",
      "       '2068-01-01T00:00:00.000000000', '2069-01-01T00:00:00.000000000',\n",
      "       '2070-01-01T00:00:00.000000000', '2071-01-01T00:00:00.000000000',\n",
      "       '2072-01-01T00:00:00.000000000', '2073-01-01T00:00:00.000000000',\n",
      "       '2074-01-01T00:00:00.000000000', '2075-01-01T00:00:00.000000000',\n",
      "       '2076-01-01T00:00:00.000000000', '2077-01-01T00:00:00.000000000',\n",
      "       '2078-01-01T00:00:00.000000000', '2079-01-01T00:00:00.000000000',\n",
      "       '2080-01-01T00:00:00.000000000', '2081-01-01T00:00:00.000000000',\n",
      "       '2082-01-01T00:00:00.000000000', '2083-01-01T00:00:00.000000000',\n",
      "       '2084-01-01T00:00:00.000000000', '2085-01-01T00:00:00.000000000',\n",
      "       '2086-01-01T00:00:00.000000000', '2087-01-01T00:00:00.000000000',\n",
      "       '2088-01-01T00:00:00.000000000', '2089-01-01T00:00:00.000000000',\n",
      "       '2090-01-01T00:00:00.000000000', '2091-01-01T00:00:00.000000000',\n",
      "       '2092-01-01T00:00:00.000000000', '2093-01-01T00:00:00.000000000',\n",
      "       '2094-01-01T00:00:00.000000000', '2095-01-01T00:00:00.000000000',\n",
      "       '2096-01-01T00:00:00.000000000', '2097-01-01T00:00:00.000000000',\n",
      "       '2098-01-01T00:00:00.000000000', '2099-01-01T00:00:00.000000000',\n",
      "       '2100-01-01T00:00:00.000000000'], dtype='datetime64[ns]')\n",
      "Coordinates:\n",
      "  * time     (time) datetime64[ns] 1950-01-01 1951-01-01 ... 2100-01-01\n",
      "<xarray.Dataset>\n",
      "Dimensions:  (lat: 180, lon: 324, time: 151)\n",
      "Coordinates:\n",
      "  * lat      (lat) float32 59.95691 59.87358 59.79025 ... 45.12417 45.04084\n",
      "  * lon      (lon) float32 -81.96216 -81.87883 -81.7955 ... -55.1299 -55.04657\n",
      "  * time     (time) datetime64[ns] 1950-01-01 1951-01-01 ... 2100-01-01\n",
      "Data variables:\n",
      "    tx_max   (time, lat, lon) float32 dask.array<shape=(151, 180, 324), chunksize=(1, 20, 75)>\n",
      "Attributes:\n",
      "    Conventions:     CF-1.5\n",
      "    title:           ACCESS1-3 model output prepared for CMIP5 historical\n",
      "    history:         CMIP5 compliant file produced from raw ACCESS model outp...\n",
      "    institution:     CSIRO (Commonwealth Scientific and Industrial Research O...\n",
      "    source:          ACCESS1-3 2011. Atmosphere: AGCM v1.0 (N96 grid-point, 1...\n",
      "    redistribution:  Redistribution prohibited. For internal use only.\n",
      "/home/logan/boreas/testdata/XCLIM_workshop/Exercise1/rcp45/tx_max/test.nc\n"
     ]
    }
   ],
   "source": [
    "fr = 'YS' #MS #QS-DEC #AS-AUG #W #2W #5D\n",
    "out = temp.tx_max(ds.tasmax, freq=fr)\n",
    "dsOut = ds.drop(ds.data_vars)\n",
    "dsOut = dsOut.drop('time')\n",
    "dsOut[out.name] = out\n",
    "print('Number of time-steps using freq == ', fr, ' : ', len(out.time),'\\n')\n",
    "print(out.time)\n",
    "print(dsOut)\n",
    "\n",
    "outfile = '/home/logan/boreas/testdata/XCLIM_workshop/Exercise1/rcp45/tx_max/test.nc'\n",
    "if not os.path.exists(os.path.dirname(outfile)):\n",
    "    os.makedirs(os.path.dirname(outfile))\n",
    "print(outfile)\n"
   ]
  },
  {
   "cell_type": "markdown",
   "metadata": {
    "scrolled": true
   },
   "source": [
    "## 7. Lazy computation\n",
    "**Up until we have ony created a schedule of tasks with a small preview**\n",
    "\n",
    "**Writing the file to netcdf will actually calculate the values for all years**"
   ]
  },
  {
   "cell_type": "code",
   "execution_count": 9,
   "metadata": {
    "scrolled": true
   },
   "outputs": [
    {
     "name": "stdout",
     "output_type": "stream",
     "text": [
      "calculation took  73.00857853889465 s\n"
     ]
    }
   ],
   "source": [
    "outfile = '/home/logan/boreas/testdata/XCLIM_workshop/Exercise1/rcp45/tx_max/test.nc'\n",
    "start= time.time()\n",
    "\n",
    "dsOut.to_netcdf( outfile,format='NETCDF4')\n",
    "\n",
    "end = time.time()\n",
    "print('calculation took ',end-start, 's')"
   ]
  },
  {
   "cell_type": "code",
   "execution_count": null,
   "metadata": {
    "scrolled": true
   },
   "outputs": [],
   "source": [
    "\n",
    "# client.restart()\n",
    "# f = 'YS'\n",
    "# start= time.time()\n",
    "# out = temp.tx_days_above(ds.tasmax, thresh='30 C', freq=f)\n",
    "# dsOut = ds.drop(ds.data_vars)\n",
    "# dsOut = dsOut.drop('time')\n",
    "# dsOut[out.name] = out\n",
    "# outfile = os.path.join(outfolder,r,'txgt_30','txgt_30_'+ f +'_' + os.path.basename(sim_files[0].replace('1950','1950-2100')))\n",
    "# if not os.path.exists(os.path.dirname(outfile)):\n",
    "#     os.makedirs(os.path.dirname(outfile))\n",
    "# outfile = outfile.replace('tasmax','').replace('__','_')\n",
    "# #comp = dict(zlib=True, complevel=5, dtype='single')\n",
    "# #encoding = {var: comp for var in dsOut.data_vars}\n",
    "# encoding = {}\n",
    "# encoding['time'] = dict(dtype='single')\n",
    "\n",
    "# dsOut.to_netcdf( outfile,format='NETCDF4', encoding=encoding)\n",
    "\n",
    "# end = time.time()\n",
    "# print(end-start)"
   ]
  },
  {
   "cell_type": "code",
   "execution_count": null,
   "metadata": {},
   "outputs": [],
   "source": []
  }
 ],
 "metadata": {
  "kernelspec": {
   "display_name": "Python 3",
   "language": "python",
   "name": "python3"
  },
  "language_info": {
   "codemirror_mode": {
    "name": "ipython",
    "version": 3
   },
   "file_extension": ".py",
   "mimetype": "text/x-python",
   "name": "python",
   "nbconvert_exporter": "python",
   "pygments_lexer": "ipython3",
   "version": "3.6.6"
  }
 },
 "nbformat": 4,
 "nbformat_minor": 2
}
