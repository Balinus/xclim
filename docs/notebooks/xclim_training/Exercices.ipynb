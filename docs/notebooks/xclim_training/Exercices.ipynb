{
 "cells": [
  {
   "cell_type": "markdown",
   "metadata": {},
   "source": [
    "# Exercices pratiques\n",
    "\n",
    "Pour le reste de la formation, on vous demande d'utiliser xclim pour reproduire des analyses standards que vous faites régulièrement, que vous avez déjà fait ou que vous devrez faire. \n",
    "\n",
    "\n",
    "Notez les problèmes que vous rencontrez, les opérations non-intuitives, les limitations que vous percevez. On se servira de vos commentaires pour compléter notre documentation et améliorer xclim.  \n",
    "\n",
    "- Documentation xclim: https://xclim.readthedocs.io/en/latest/\n",
    "- Documentation xarray: http://xarray.pydata.org/en/stable/\n",
    "\n",
    "Pour rapporter un problème avec xclim ou faire une suggestion: https://github.com/Ouranosinc/xclim/issues\n",
    "\n",
    "\n",
    "Vous pouvez travailler dans un notebook en lançant dans votre environnement python36 la commande\n",
    "\n",
    "```bash\n",
    "$ jupyter notebook\n",
    "```\n",
    "\n",
    "SVP réduisez les dimensions de vos calculs afin de donner une chance à nos machines !\n"
   ]
  },
  {
   "cell_type": "markdown",
   "metadata": {},
   "source": [
    "## Quelques trucs\n",
    "\n",
    "### Wildcards dans les chemins \n",
    "\n",
    "Vous pouvez vous servir des wildcards pour ouvrir plusieurs fichiers à la fois. "
   ]
  },
  {
   "cell_type": "code",
   "execution_count": 2,
   "metadata": {
    "tags": [
     "skip"
    ]
   },
   "outputs": [
    {
     "ename": "ImportError",
     "evalue": "cannot import name 'ope' from 'xclim.testing' (/home/tjs/git/xclim/xclim/testing/__init__.py)",
     "output_type": "error",
     "traceback": [
      "\u001b[0;31m---------------------------------------------------------------------------\u001b[0m",
      "\u001b[0;31mImportError\u001b[0m                               Traceback (most recent call last)",
      "\u001b[0;32m<ipython-input-2-5e0b7f236e68>\u001b[0m in \u001b[0;36m<module>\u001b[0;34m\u001b[0m\n\u001b[1;32m      1\u001b[0m \u001b[0;32mimport\u001b[0m \u001b[0mxarray\u001b[0m \u001b[0;32mas\u001b[0m \u001b[0mxr\u001b[0m\u001b[0;34m\u001b[0m\u001b[0;34m\u001b[0m\u001b[0m\n\u001b[0;32m----> 2\u001b[0;31m \u001b[0;32mfrom\u001b[0m \u001b[0mxclim\u001b[0m\u001b[0;34m.\u001b[0m\u001b[0mtesting\u001b[0m \u001b[0;32mimport\u001b[0m \u001b[0mope\u001b[0m\u001b[0;34m\u001b[0m\u001b[0;34m\u001b[0m\u001b[0m\n\u001b[0m\u001b[1;32m      3\u001b[0m \u001b[0;34m\u001b[0m\u001b[0m\n\u001b[1;32m      4\u001b[0m \u001b[0;31m# Pour ouvrir tous les mois d'une année:\u001b[0m\u001b[0;34m\u001b[0m\u001b[0;34m\u001b[0m\u001b[0;34m\u001b[0m\u001b[0m\n\u001b[1;32m      5\u001b[0m \u001b[0mds\u001b[0m \u001b[0;34m=\u001b[0m \u001b[0mxr\u001b[0m\u001b[0;34m.\u001b[0m\u001b[0mopen_mfdataset\u001b[0m\u001b[0;34m(\u001b[0m\u001b[0;34m'<path_to_file>/tas_bch_2032??_se.nc'\u001b[0m\u001b[0;34m)\u001b[0m\u001b[0;34m\u001b[0m\u001b[0;34m\u001b[0m\u001b[0m\n",
      "\u001b[0;31mImportError\u001b[0m: cannot import name 'ope' from 'xclim.testing' (/home/tjs/git/xclim/xclim/testing/__init__.py)"
     ]
    }
   ],
   "source": [
    "import xarray as xr\n",
    "from xclim.testing import ope\n",
    "\n",
    "# Pour ouvrir tous les mois d'une année: \n",
    "ds = xr.open_mfdataset('<path_to_file>/tas_bch_2032??_se.nc')"
   ]
  },
  {
   "cell_type": "markdown",
   "metadata": {},
   "source": [
    "### Propager les unités\n",
    "\n",
    "xclim vérifie que les unités sont compatibles avec l'indicateur à calculer. Par contre, les opérations xarray ne conservent pas les unités par défaut. Pour propager les attributs d'un object, utilisez `keep_attrs=True`. "
   ]
  },
  {
   "cell_type": "code",
   "execution_count": null,
   "metadata": {
    "tags": [
     "skip"
    ]
   },
   "outputs": [],
   "source": [
    "ts = ds.tas.isel(rlat=slice(0,2), rlon=slice(0,2)).resample(time='D').mean(dim='time', keep_attrs=True)"
   ]
  }
 ],
 "metadata": {
  "kernelspec": {
   "display_name": "Python 3",
   "language": "python",
   "name": "python3"
  },
  "language_info": {
   "codemirror_mode": {
    "name": "ipython",
    "version": 3
   },
   "file_extension": ".py",
   "mimetype": "text/x-python",
   "name": "python",
   "nbconvert_exporter": "python",
   "pygments_lexer": "ipython3",
   "version": "3.8.5"
  }
 },
 "nbformat": 4,
 "nbformat_minor": 2
}
