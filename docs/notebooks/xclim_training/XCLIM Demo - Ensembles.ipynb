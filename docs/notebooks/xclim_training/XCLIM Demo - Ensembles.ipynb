{
 "cells": [
  {
   "cell_type": "code",
   "execution_count": null,
   "metadata": {},
   "outputs": [],
   "source": [
    "%matplotlib inline\n",
    "import glob\n",
    "import matplotlib.pyplot as plt\n",
    "import logging \n",
    "from matplotlib.patches import PathPatch\n",
    "from matplotlib.path import Path\n",
    "mpl_logger = logging.getLogger('matplotlib') \n",
    "mpl_logger.setLevel(logging.WARNING) \n",
    "plt.rcParams['figure.figsize'] = [9.5*2, 6*2]\n",
    "\n",
    "\n",
    "# XCLIM and xarray\n",
    "import xclim.indices as xci\n",
    "import xclim.temperature as temp\n",
    "import xclim.precip as prec\n",
    "import numpy as np\n",
    "import xclim.utils as xut\n",
    "import xarray as xr\n",
    "import dask\n",
    "from distributed import Client\n",
    "\n",
    "# start client\n",
    "client=Client(n_workers=4, threads_per_worker=10,diagnostics_port=8787, memory_limit='10GB')\n",
    "client"
   ]
  },
  {
   "cell_type": "code",
   "execution_count": null,
   "metadata": {},
   "outputs": [],
   "source": [
    "inrep = '/pvcs1/DATA/testdata/XCLIM_workshop/'\n",
    "rcps = ['rcp45','rcp85']\n",
    "v = 'tx_max'\n",
    "ncfiles = {}\n",
    "for r in rcps:\n",
    "    ncfiles[r] = glob.glob(glob.os.path.join(inrep,r,v,'*.nc'))\n",
    "print(ncfiles)"
   ]
  },
  {
   "cell_type": "code",
   "execution_count": null,
   "metadata": {},
   "outputs": [],
   "source": [
    "ens_rcp45 = xut.create_ensemble(ncfiles['rcp45'])\n",
    "\n",
    "ens_rcp85 = xut.create_ensemble(ncfiles['rcp85'])"
   ]
  },
  {
   "cell_type": "code",
   "execution_count": null,
   "metadata": {},
   "outputs": [],
   "source": [
    "print(ens_rcp45,'\\n',ens_rcp85)"
   ]
  },
  {
   "cell_type": "code",
   "execution_count": null,
   "metadata": {},
   "outputs": [],
   "source": [
    "# Plot individual simulations\n",
    "for i in np.arange(0,ens_rcp45[v].shape[0]):\n",
    "    plt.plot(ens_rcp45[v][i,].mean(['lon','lat']),color='blue',linewidth=0.2)\n",
    "    plt.plot(ens_rcp85[v][i,].mean(['lon','lat']),color='red',linewidth=0.2)\n",
    "\n"
   ]
  },
  {
   "cell_type": "code",
   "execution_count": null,
   "metadata": {},
   "outputs": [],
   "source": [
    "\n",
    "ens_stats = xut.ensemble_mean_std_max_min(ens_rcp85)\n",
    "print(ens_stats.data_vars)"
   ]
  },
  {
   "cell_type": "code",
   "execution_count": null,
   "metadata": {},
   "outputs": [],
   "source": [
    "plt.rcParams['figure.figsize'] = [9.5*2, 6*2]\n",
    "x = ens_stats['tx_max_mean'].time.dt.year\n",
    "y1 = ens_stats['tx_max_max'].mean(['lon','lat'])\n",
    "y2 = ens_stats['tx_max_min'].mean(['lon','lat'])\n",
    "plt.fill_between(x,y1,y2, facecolor='red', alpha=0.25)\n",
    "plt.plot(x,ens_stats['tx_max_mean'].mean(['lon','lat']), color='red', linewidth = 1)\n"
   ]
  },
  {
   "cell_type": "code",
   "execution_count": null,
   "metadata": {},
   "outputs": [],
   "source": [
    "ens_perc = xut.ensemble_percentiles(ens_rcp85)\n",
    "print(ens_perc.data_vars)\n",
    "ens_perc = xut.ensemble_percentiles(ens_rcp85, values=[10,25,50,75,90])\n",
    "print(ens_perc.data_vars)"
   ]
  },
  {
   "cell_type": "code",
   "execution_count": null,
   "metadata": {},
   "outputs": [],
   "source": [
    "plt.rcParams['figure.figsize'] = [9.5*2, 6*2]\n",
    "y1 = ens_perc['tx_max_p90'].mean(['lon','lat'])\n",
    "y2 = ens_perc['tx_max_p10'].mean(['lon','lat'])\n",
    "plt.fill_between(x,y1,y2, facecolor='red', alpha=0.15)\n",
    "\n",
    "y1 = ens_perc['tx_max_p75'].mean(['lon','lat'])\n",
    "y2 = ens_perc['tx_max_p25'].mean(['lon','lat'])\n",
    "plt.fill_between(x,y1,y2, facecolor='red', alpha=0.2)\n",
    "plt.plot(x,ens_perc['tx_max_p50'].mean(['lon','lat']), color='red', linewidth = 1)\n"
   ]
  },
  {
   "cell_type": "code",
   "execution_count": null,
   "metadata": {},
   "outputs": [],
   "source": [
    "# 30 year averages\n",
    "ensSub = xut.subset_bbox(ens_rcp85,start_yr = 1951)\n",
    "ens30y = ensSub.rolling(time=30,  center=True).mean()"
   ]
  },
  {
   "cell_type": "code",
   "execution_count": null,
   "metadata": {},
   "outputs": [],
   "source": [
    "#print(ens30y)\n",
    "print(ens30y.sel(time='1980-01-01'))\n",
    "ens30y.sel(time='1980-01-01')['tx_max'][0,:,:].plot.imshow()\n",
    "#print(ens30y.time)"
   ]
  },
  {
   "cell_type": "code",
   "execution_count": null,
   "metadata": {},
   "outputs": [],
   "source": [
    "# Create deltas wrt to 1981-2010\n",
    "ref_per = ens30y.sel(time='2010-01-01')\n",
    "print(ref_per.time.values)"
   ]
  },
  {
   "cell_type": "code",
   "execution_count": null,
   "metadata": {},
   "outputs": [],
   "source": [
    "ensDeltas = ens30y - ref_per\n",
    "print(ensDeltas)"
   ]
  },
  {
   "cell_type": "code",
   "execution_count": null,
   "metadata": {},
   "outputs": [],
   "source": [
    "ens_percDeltas = xut.ensemble_percentiles(ensDeltas)\n",
    "print(ens_percDeltas)"
   ]
  },
  {
   "cell_type": "code",
   "execution_count": null,
   "metadata": {},
   "outputs": [],
   "source": [
    "ens_percDeltas['tx_max_p50'].isel(time=-1).plot.imshow()"
   ]
  },
  {
   "cell_type": "code",
   "execution_count": null,
   "metadata": {},
   "outputs": [],
   "source": []
  }
 ],
 "metadata": {
  "kernelspec": {
   "display_name": "Python 3",
   "language": "python",
   "name": "python3"
  },
  "language_info": {
   "codemirror_mode": {
    "name": "ipython",
    "version": 3
   },
   "file_extension": ".py",
   "mimetype": "text/x-python",
   "name": "python",
   "nbconvert_exporter": "python",
   "pygments_lexer": "ipython3",
   "version": "3.6.6"
  }
 },
 "nbformat": 4,
 "nbformat_minor": 2
}
