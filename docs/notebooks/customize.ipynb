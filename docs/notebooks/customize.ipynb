{
 "cells": [
  {
   "cell_type": "markdown",
   "metadata": {},
   "source": [
    "# Customizing and controlling xclim\n",
    "\n",
    "xclim's behaviour can be controlled globally or contextually through `xclim.set_options`, which acts the same way as `xarray.set_options`."
   ]
  },
  {
   "cell_type": "code",
   "execution_count": null,
   "metadata": {},
   "outputs": [],
   "source": [
    "import xarray as xr\n",
    "import xclim"
   ]
  },
  {
   "cell_type": "markdown",
   "metadata": {},
   "source": [
    "Let's create fake data with some missing values and mask every 10th, 20th and 30th of the month.This represents 9.6-10% of masked data for all months except February where it is 7.1%."
   ]
  },
  {
   "cell_type": "code",
   "execution_count": null,
   "metadata": {},
   "outputs": [],
   "source": [
    "tasmax = xr.tutorial.open_dataset('air_temperature').air.resample(time='D').max(keep_attrs=True)\n",
    "tasmax = tasmax.where(tasmax.time.dt.day % 10 != 0)"
   ]
  },
  {
   "cell_type": "markdown",
   "metadata": {},
   "source": [
    "## Checks\n",
    "Above, we created fake temperature data from a xarray tutorial dataset that doesn't have all the standard CF attributes. By default, when triggering a computation with an Indicator from xclim, warnings will be raised:"
   ]
  },
  {
   "cell_type": "code",
   "execution_count": null,
   "metadata": {},
   "outputs": [],
   "source": [
    "tx_mean = xclim.atmos.tx_mean(tasmax=tasmax, freq='MS') # compute monthly max tasmax"
   ]
  },
  {
   "cell_type": "markdown",
   "metadata": {},
   "source": [
    "Setting `cf_compliance` to `'log'` mutes those warnings and sends them to the log instead."
   ]
  },
  {
   "cell_type": "code",
   "execution_count": null,
   "metadata": {},
   "outputs": [],
   "source": [
    "xclim.set_options(cf_compliance='log')\n",
    "\n",
    "tx_mean = xclim.atmos.tx_mean(tasmax=tasmax, freq='MS') # compute monthly max tasmax"
   ]
  },
  {
   "cell_type": "markdown",
   "metadata": {},
   "source": [
    "## Missing values\n",
    "\n",
    "For example, one can globally change the missing method.\n",
    "\n",
    "Change the default missing method to \"pct\" and set its tolerance to 8%:"
   ]
  },
  {
   "cell_type": "code",
   "execution_count": null,
   "metadata": {},
   "outputs": [],
   "source": [
    "xclim.set_options(check_missing='pct', missing_options={'pct': {'tolerance': 0.08}})\n",
    "\n",
    "tx_mean = xclim.atmos.tx_mean(tasmax=tasmax, freq='MS') # compute monthly max tasmax\n",
    "tx_mean.sel(time='2013', lat=75, lon=200)"
   ]
  },
  {
   "cell_type": "markdown",
   "metadata": {},
   "source": [
    "Only February has non-masked data. Let's say we want to use the \"wmo\" method (and its default options), but only once, we can do:"
   ]
  },
  {
   "cell_type": "code",
   "execution_count": null,
   "metadata": {},
   "outputs": [],
   "source": [
    "with xclim.set_options(check_missing=\"wmo\"):\n",
    "    tx_mean = xclim.atmos.tx_mean(tasmax=tasmax, freq='MS') # compute monthly max tasmax\n",
    "tx_mean.sel(time='2013', lat=75, lon=200)"
   ]
  },
  {
   "cell_type": "markdown",
   "metadata": {},
   "source": [
    "This method checks that there is less than `nm=5` invalid values in a month and that there are no consecutive runs of `nc>=4` invalid values. Thus, every month is now valid.\n",
    "\n",
    "Finally, it is possible for advanced users to register their own method. Xclim's missing methods are in fact based on class instances. Thus, to create a custom missing class, one should implement a subclass based on `xclim.core.checks.MissingBase` and overriding at least the `is_missing` method. The method should take a `null` argument and  a `count` argument.\n",
    "\n",
    "- `null` is a `DataArrayResample` instance of the resampled mask of invalid values in the input dataarray.\n",
    "- `count` is the number of days in each resampled periods and any number of other keyword arguments. \n",
    "\n",
    "The `is_missing` method should return a boolean mask, at the same frequency as the indicator output (same as `count`), where True values are for elements that are considered missing and masked on the output.\n",
    "\n",
    "When registering the class with the `xclim.core.checks.register_missing_method` decorator, the keyword arguments will be registered as options for the missing method. One can also implement a `validate` static method that receives only those options and returns whether they should be considered valid or not."
   ]
  },
  {
   "cell_type": "code",
   "execution_count": null,
   "metadata": {},
   "outputs": [],
   "source": [
    "from xclim.core.missing import register_missing_method\n",
    "from xclim.core.missing import MissingBase\n",
    "from xclim.indices.run_length import longest_run\n",
    "\n",
    "@register_missing_method(\"consecutive\")\n",
    "class MissingConsecutive(MissingBase):\n",
    "    \"\"\"Any period with more than max_n consecutive missing values is considered invalid\"\"\"\n",
    "    def is_missing(self, null, count, max_n=5):\n",
    "        return null.map(longest_run, dim=\"time\") >= max_n\n",
    "\n",
    "    @staticmethod\n",
    "    def validate(max_n):\n",
    "        return max_n > 0\n"
   ]
  },
  {
   "cell_type": "markdown",
   "metadata": {},
   "source": [
    "The new method is now accessible and usable with:"
   ]
  },
  {
   "cell_type": "code",
   "execution_count": null,
   "metadata": {},
   "outputs": [],
   "source": [
    "with xclim.set_options(check_missing=\"consecutive\", missing_options={'consecutive': {'max_n': 2}}):\n",
    "    tx_mean = xclim.atmos.tx_mean(tasmax=tasmax, freq='MS') # compute monthly max tasmax\n",
    "tx_mean.sel(time='2013', lat=75, lon=200)"
   ]
  },
  {
   "cell_type": "markdown",
   "metadata": {},
   "source": [
    "## Defining new indicators\n",
    "\n",
    "xclim's Indicators are instances of subclasses of `xclim.core.indicator.Indicator`. They define the following key ingredients:\n",
    "\n",
    "- the `identifier`, as string that uniquely identifies the indicator,\n",
    "- the `realm`, one of \"atmos\", \"land\", \"seaIce\" or \"ocean\", classifying the domain of use of the indicator.\n",
    "- the `compute` function that returns one or more DataArrays,\n",
    "- the `cfcheck` and `datacheck` methods that make sure the inputs are appropriate and valid.\n",
    "- the `missing` function that masks elements based on null values in the input.\n",
    "- all metadata attributes that will be attributed to the output and that document the indicator.\n",
    "\n",
    "See the [class documentation](../api.rst#indicator-tools) for more info on the available options for creating  indicators. The [indicators](https://github.com/Ouranosinc/xclim/tree/master/xclim/indicators) module contains over 50 examples of indicators to draw inspiration from.\n",
    "\n",
    "New indicators can be created using standard Python subclasses:"
   ]
  },
  {
   "cell_type": "code",
   "execution_count": null,
   "metadata": {},
   "outputs": [],
   "source": [
    "class NewIndicator(xclim.core.indicator.Indicator):\n",
    "    identifier = \"new_indicator\"\n",
    "    missing = \"any\"\n",
    "    realm = \"atmos\"\n",
    "\n",
    "    @staticmethod\n",
    "    def compute(tas):\n",
    "        return tas.mean(dim=\"time\")\n",
    "\n",
    "    @staticmethod\n",
    "    def cfcheck(tas):\n",
    "        xclim.core.cfchecks.check_valid(tas, \"standard_name\", \"air_temperature\")\n",
    "\n",
    "    @staticmethod\n",
    "    def datacheck(tas):\n",
    "        xclim.core.datachecks.check_daily(tas)\n",
    "\n",
    "# An instance must be created to register and make the indicator usable\n",
    "newind = NewIndicator()"
   ]
  },
  {
   "cell_type": "markdown",
   "metadata": {},
   "source": [
    "Another mechanism to create subclasses is to call Indicator with all the attributes passed as arguments:"
   ]
  },
  {
   "cell_type": "code",
   "execution_count": null,
   "metadata": {},
   "outputs": [],
   "source": [
    "from xclim.core.indicator import Indicator\n",
    "\n",
    "newind = Indicator(identifier=\"new_indicator\", realm=\"atmos\", compute=xclim.indices.tg_mean, var_name='tmean', units=\"K\")"
   ]
  },
  {
   "cell_type": "markdown",
   "metadata": {},
   "source": [
    "Behind the scene, this will create a `NEW_INDICATOR` subclass and return an instance. As in the case above, creating an indicator with a name already existing in the registry raises a warning.\n",
    "\n",
    "One pattern to create multiple indicators is to write a standard subclass that declares all the attributes that are common to indicators, then call this subclass with the custom attributes. See for example in [xclim.indicators.atmos](https://github.com/Ouranosinc/xclim/blob/master/xclim/indicators/atmos/_temperature.py) how indicators based on daily mean temperatures are created from the :class:`Tas` subclass of the :class:`Daily` subclass.\n",
    "\n",
    "### Subclass registries\n",
    "All subclasses that are created from `Indicator` are stored in a *registry*. So for example:"
   ]
  },
  {
   "cell_type": "code",
   "execution_count": null,
   "metadata": {},
   "outputs": [],
   "source": [
    "from xclim.core.indicator import Daily, registry\n",
    "my_indicator = Daily(identifier=\"my_indicator\", realm=\"atmos\", compute=lambda x: x.mean())\n",
    "assert \"MY_INDICATOR\" in registry"
   ]
  },
  {
   "cell_type": "markdown",
   "metadata": {},
   "source": [
    "This registry is meant to facilitate user customization of existing indicators. Keys in the registry are the uppercase version of the indicator's identifier. So for example, it you'd like a `tg_mean` indicator returning values in Celsius instead of Kelvins, you could simply do:"
   ]
  },
  {
   "cell_type": "code",
   "execution_count": null,
   "metadata": {},
   "outputs": [],
   "source": [
    "tg_mean_c = registry[\"TG_MEAN\"](identifier=\"tg_mean_c\", units=\"C\")"
   ]
  },
  {
   "cell_type": "markdown",
   "metadata": {},
   "source": [
    "Another use case for the registry would be to parse all available indicators. Then, to retrieve an instance from a subclass in the registry one can use:"
   ]
  },
  {
   "cell_type": "code",
   "execution_count": null,
   "metadata": {},
   "outputs": [],
   "source": [
    "tg_mean = registry[\"TG_MEAN\"].get_instance()"
   ]
  },
  {
   "cell_type": "markdown",
   "metadata": {},
   "source": [
    "Note that in the case of compute functions returning multiple outputs, metadata attributes may be given as lists of strings or strings. In the latter case, the string is assumed to be identical for all variables. However, the `var_name` attribute must be a list and have the same length as the number of outputs."
   ]
  },
  {
   "cell_type": "code",
   "execution_count": null,
   "metadata": {},
   "outputs": [],
   "source": [
    "def compute_stats(data, freq='YS'):\n",
    "    \"\"\"Simple function returning the min, mean and max for each resampling period.\"\"\"\n",
    "    with xr.set_options(keep_attrs=True):\n",
    "        da = data.resample(time=freq)\n",
    "        return da.min(), da.mean(), da.max()\n",
    "\n",
    "tg_stat = registry[\"TG_MEAN\"](\n",
    "    identifier=\"tg_stats\",\n",
    "    realm=\"atmos\",\n",
    "    compute=compute_stats,\n",
    "    var_name=[\"tg_min\", \"tg_mean\", \"tg_max\"],\n",
    "    units=\"C\",  # As only a str is passed, the three outputs will use the same value as attribute.\n",
    "    long_name=[\"Minimum temperature\", \"Mean temperature\", \"Max temperature\"],\n",
    ")"
   ]
  },
  {
   "cell_type": "code",
   "execution_count": null,
   "metadata": {
    "pycharm": {
     "name": "#%%\n"
    }
   },
   "outputs": [],
   "source": [
    "tas = xr.tutorial.open_dataset('air_temperature').air.resample(time='D').mean(keep_attrs=True)\n",
    "tas.attrs.update(cell_methods=\"time: mean within days\", standard_name=\"air_temperature\")\n",
    "\n",
    "out = tg_stat(tas, freq='MS')  # Outputs 3 DataArrays\n",
    "xr.merge(out)"
   ]
  }
 ],
 "metadata": {
  "kernelspec": {
   "display_name": "Python 3",
   "language": "python",
   "name": "python3"
  },
  "language_info": {
   "codemirror_mode": {
    "name": "ipython",
    "version": 3
   },
   "file_extension": ".py",
   "mimetype": "text/x-python",
   "name": "python",
   "nbconvert_exporter": "python",
   "pygments_lexer": "ipython3",
   "version": "3.8.5"
  }
 },
 "nbformat": 4,
 "nbformat_minor": 4
}