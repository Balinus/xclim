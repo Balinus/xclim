{
 "cells": [
  {
   "cell_type": "markdown",
   "metadata": {},
   "source": [
    "# Customizing and controlling xclim\n",
    "\n",
    "xclim's behaviour can be controlled globally or contextually through `xclim.set_options`, which acts the same way as `xarray.set_options`."
   ]
  },
  {
   "cell_type": "code",
   "execution_count": null,
   "metadata": {},
   "outputs": [],
   "source": [
    "import xarray as xr\n",
    "import xclim\n",
    "from xclim.testing import open_dataset"
   ]
  },
  {
   "cell_type": "markdown",
   "metadata": {},
   "source": [
    "Let's create fake data with some missing values and mask every 10th, 20th and 30th of the month.This represents 9.6-10% of masked data for all months except February where it is 7.1%."
   ]
  },
  {
   "cell_type": "code",
   "execution_count": null,
   "metadata": {},
   "outputs": [],
   "source": [
    "tasmax = xr.tutorial.open_dataset('air_temperature').air.resample(time='D').max(keep_attrs=True)\n",
    "tasmax = tasmax.where(tasmax.time.dt.day % 10 != 0)"
   ]
  },
  {
   "cell_type": "markdown",
   "metadata": {},
   "source": [
    "## Checks\n",
    "Above, we created fake temperature data from a xarray tutorial dataset that doesn't have all the standard CF attributes. By default, when triggering a computation with an Indicator from xclim, warnings will be raised:"
   ]
  },
  {
   "cell_type": "code",
   "execution_count": null,
   "metadata": {},
   "outputs": [],
   "source": [
    "tx_mean = xclim.atmos.tx_mean(tasmax=tasmax, freq='MS') # compute monthly max tasmax"
   ]
  },
  {
   "cell_type": "markdown",
   "metadata": {},
   "source": [
    "Setting `cf_compliance` to `'log'` mutes those warnings and sends them to the log instead."
   ]
  },
  {
   "cell_type": "code",
   "execution_count": null,
   "metadata": {},
   "outputs": [],
   "source": [
    "xclim.set_options(cf_compliance='log')\n",
    "\n",
    "tx_mean = xclim.atmos.tx_mean(tasmax=tasmax, freq='MS') # compute monthly max tasmax"
   ]
  },
  {
   "cell_type": "markdown",
   "metadata": {},
   "source": [
    "## Missing values\n",
    "\n",
    "For example, one can globally change the missing method.\n",
    "\n",
    "Change the default missing method to \"pct\" and set its tolerance to 8%:"
   ]
  },
  {
   "cell_type": "code",
   "execution_count": null,
   "metadata": {},
   "outputs": [],
   "source": [
    "xclim.set_options(check_missing='pct', missing_options={'pct': {'tolerance': 0.08}})\n",
    "\n",
    "tx_mean = xclim.atmos.tx_mean(tasmax=tasmax, freq='MS') # compute monthly max tasmax\n",
    "tx_mean.sel(time='2013', lat=75, lon=200)"
   ]
  },
  {
   "cell_type": "markdown",
   "metadata": {},
   "source": [
    "Only February has non-masked data. Let's say we want to use the \"wmo\" method (and its default options), but only once, we can do:"
   ]
  },
  {
   "cell_type": "code",
   "execution_count": null,
   "metadata": {},
   "outputs": [],
   "source": [
    "with xclim.set_options(check_missing=\"wmo\"):\n",
    "    tx_mean = xclim.atmos.tx_mean(tasmax=tasmax, freq='MS') # compute monthly max tasmax\n",
    "tx_mean.sel(time='2013', lat=75, lon=200)"
   ]
  },
  {
   "cell_type": "markdown",
   "metadata": {},
   "source": [
    "This method checks that there is less than `nm=5` invalid values in a month and that there are no consecutive runs of `nc>=4` invalid values. Thus, every month is now valid.\n",
    "\n",
    "Finally, it is possible for advanced users to register their own method. Xclim's missing methods are in fact based on class instances. Thus, to create a custom missing class, one should implement a subclass based on `xclim.core.checks.MissingBase` and overriding at least the `is_missing` method. The method should take a `null` argument and  a `count` argument.\n",
    "\n",
    "- `null` is a `DataArrayResample` instance of the resampled mask of invalid values in the input dataarray.\n",
    "- `count` is the number of days in each resampled periods and any number of other keyword arguments. \n",
    "\n",
    "The `is_missing` method should return a boolean mask, at the same frequency as the indicator output (same as `count`), where True values are for elements that are considered missing and masked on the output.\n",
    "\n",
    "When registering the class with the `xclim.core.checks.register_missing_method` decorator, the keyword arguments will be registered as options for the missing method. One can also implement a `validate` static method that receives only those options and returns whether they should be considered valid or not."
   ]
  },
  {
   "cell_type": "code",
   "execution_count": null,
   "metadata": {},
   "outputs": [],
   "source": [
    "from xclim.core.missing import register_missing_method\n",
    "from xclim.core.missing import MissingBase\n",
    "from xclim.indices.run_length import longest_run\n",
    "\n",
    "@register_missing_method(\"consecutive\")\n",
    "class MissingConsecutive(MissingBase):\n",
    "    \"\"\"Any period with more than max_n consecutive missing values is considered invalid\"\"\"\n",
    "    def is_missing(self, null, count, max_n=5):\n",
    "        return null.map(longest_run, dim=\"time\") >= max_n\n",
    "\n",
    "    @staticmethod\n",
    "    def validate(max_n):\n",
    "        return max_n > 0\n"
   ]
  },
  {
   "cell_type": "markdown",
   "metadata": {},
   "source": [
    "The new method is now accessible and usable with:"
   ]
  },
  {
   "cell_type": "code",
   "execution_count": null,
   "metadata": {},
   "outputs": [],
   "source": [
    "with xclim.set_options(check_missing=\"consecutive\", missing_options={'consecutive': {'max_n': 2}}):\n",
    "    tx_mean = xclim.atmos.tx_mean(tasmax=tasmax, freq='MS') # compute monthly max tasmax\n",
    "tx_mean.sel(time='2013', lat=75, lon=200)"
   ]
  },
  {
   "cell_type": "markdown",
   "metadata": {},
   "source": [
    "## Indices vs Indicators\n",
    "\n",
    "Internally and in the documentation, xclim makes a distinction between \"indices\" and \"indicators\".\n",
    " \n",
    "### indice\n",
    "\n",
    " - A python function accepting DataArrays and other parameters (usually bultin types)\n",
    " - Returns one or several DataArrays. \n",
    " - Handles the units : check inputs' units and set proper CF-compliant output units.\n",
    " - Performs not other checks or set any metadata.\n",
    " - Accessible through [xclim.indices](../indices.rst).\n",
    " \n",
    "### indicator\n",
    "\n",
    " - An instance of a subclass of `xclim.core.indicator.Indicator` that wraps around an `indice` (stored in its `compute` property). \n",
    " - Returns one or several DataArrays.\n",
    " - Handles missing values, performs input data and metadata checks (see [usage](usage.ipynb#Health-checks-and-metadata-attributes)).\n",
    " - Always ouputs data in the same units.\n",
    " - Adds dynamically generated metadata to the output after computation.\n",
    " - Accessible through [xclim.indicators ](../indicators_api.rst)\n",
    "\n",
    "Most metadata stored in the Indicators is parsed from the underlying indice documentation, so defining indices with complete documentation and an appropriate signature helps the process. The two next sections go into details on the definition of both objects."
   ]
  },
  {
   "cell_type": "markdown",
   "metadata": {},
   "source": [
    "## Defining new indices\n",
    "\n",
    "The annotated example below shows the general template to be followed when defining proper _indices_. In the comments `Ind` is the indicator instance that would be created from this function.\n",
    "\n",
    "<div class=\"alert alert-info\">\n",
    "\n",
    "Note that it is not _needed_ to follow these standards when writing indices that will be wrapped in indicators. Problems in parsing will not raise errors at runtime, but will result in Indicators with poorer metadata than expected by most users, especially those that dynamically use indicators in other applications where the code is inaccessible, like web services.\n",
    "    \n",
    "</div>"
   ]
  },
  {
   "cell_type": "code",
   "execution_count": null,
   "metadata": {},
   "outputs": [],
   "source": [
    "from xclim.core.units import declare_units, convert_units_to\n",
    "from xclim.indices.generic import threshold_count\n",
    "\n",
    "# declaring units. The decorator, check the input units, so passing incompatible arrays will raise an error.\n",
    "# As of xclim 0.24, units must be set appropriately by the function. \n",
    "# Input units can be given either directly (\"K\", \"degC\", \"m\", etc) or by dimensionnality (\"[temperature]\", \"[length]\", etc)\n",
    "# Output units will only be reformatted to a CF-compliant format, ensuring consistency in xclim.\n",
    "@declare_units(tasmax=\"[temperature]\", thresh=\"[temperature]\")\n",
    "# Annotations are important : input *variables* need to have a DataArray annotation so\n",
    "# the indicator can parse them from a dataset. Argument order is also important,\n",
    "# inputs used as variables are first then the parameters follow.\n",
    "def tx_days_compare(tasmax: xr.DataArray, thresh: str = \"0 degC\", op: str = '>', freq: str = \"YS\"):\n",
    "    r\"\"\"Number of days where maximum daily temperature. is above or under a threshold.\n",
    "    # First line of the docstring is \"Ind.title\"\n",
    "\n",
    "    The daily maximum temperature is compared to a threshold using a given operator and the number\n",
    "    of days where the condition is true is returned.\n",
    "    # The first paragraph is \"Ind.abstract\"\n",
    "     \n",
    "    It assumes a daily input.\n",
    "    # All subsequent paragraph are ignored and not parsed by the indicator.\n",
    "\n",
    "    Parameters\n",
    "    ----------\n",
    "    # Each parameter will be parsed into the \"Ind.parameters\" list. The list is created from the call\n",
    "    # signature. The name, description, units and choices are read from here. The default value and \n",
    "    # the annotation are read from the call signature. The annotations here should be the same unless\n",
    "    # more human-readable versions are needed, or a fixed set of choices is required.\n",
    "    tasmax : xarray.DataArray \n",
    "      Maximum daily temperature.\n",
    "    thresh : str\n",
    "      Threshold temperature to compare to.\n",
    "    op : {'>', '<'}\n",
    "      The operator to use.\n",
    "      # A fixed set of choices can be imposed. Only strings, numbers, booleans or None are accepted.\n",
    "    freq : str\n",
    "      Resampling frequency.\n",
    "\n",
    "    Returns\n",
    "    -------\n",
    "    # The line following the return type is set to \"Ind.cf_attrs[0]['long_name']\"\n",
    "    # (the long_name attribute of the first output)\n",
    "    # Output units (or dimension) are noted in the first line, but will not be parsed in the indicator.\n",
    "    xarray.DataArray, [temperature]\n",
    "      Maximum value of daily maximum temperature.\n",
    "\n",
    "    Notes\n",
    "    -----\n",
    "    # Notes will be added as-is to the indicator.\n",
    "    Let :math:`TX_{ij}` be the maximum temperature at day :math:`i` of period :math:`j`. Then the maximum\n",
    "    daily maximum temperature for period :math:`j` is:\n",
    "\n",
    "    .. math::\n",
    "\n",
    "        TXx_j = max(TX_{ij})\n",
    "    \n",
    "    References\n",
    "    ----------\n",
    "    # References are also added as-is to the indicator.\n",
    "    Smith, John and Tremblay, Robert, An dummy citation for examples in documentation. J. RTD. (2020).\n",
    "    \"\"\"\n",
    "    thresh = convert_units_to(thresh, tasmax)  # Convert a unit string to a number.\n",
    "    out = threshold_count(tasmax, op, thresh, freq)  # Basic operations are already implemented in xclim.indices.generic\n",
    "    # Indices do not need to set any attributes, except units.\n",
    "    # If the output has no units, the `declare_units` decorator will patch the one passed.\n",
    "    # However, if xr.set_options(keep_attrs=True) was used here, temperature units might have been kept.\n",
    "    # We patch just to be sure.\n",
    "    out.attrs['units'] = \"days\"\n",
    "    return out\n",
    "\n",
    "# Small hack to get a normal docstring\n",
    "# Comments are not really supported in docstrings, so we removed those added for the example.\n",
    "doclines = [line for line in tx_days_compare.__doc__.split('\\n') if not line.strip().startswith('#')]\n",
    "tx_days_compare.__doc__ = '\\n'.join(doclines)"
   ]
  },
  {
   "cell_type": "markdown",
   "metadata": {},
   "source": [
    "### Generic functions for common operations\n",
    "\n",
    "The [xclim.indices.generic](../api.rst#generic-indices-submodule) submodule contains useful functions for common computations (like `threshold_count` or `select_resample_op`) and many basic indice functions, as defined by [clix-meta](https://github.com/clix-meta/clix-meta). In order to reduce duplicate code, their use is recommended for xclim's indices. As previously said, the units handling has to be made explicitly when non trivial, [xclim.core.units](../api.rst#module-xclim.core.units) also exposes a few helpers for that (like `convert_units_to`, `to_agg_units` or `rate2amount`).\n",
    "\n",
    "## Defining new indicators\n",
    "\n",
    "xclim's Indicators are instances of (subclasses of) `xclim.core.indicator.Indicator`. While they are the central to xclim, their construction can be somewhat tricky as a lot happens backstage. Essentially, they act as self-aware functions, taking a set of input variables (DataArrays) and parameters (usually strings, integers or floats), performing some health checks on them and returning one or multiple DataArrays, with CF-compliant (and potentially translated) metadata attributes, masked according to a given missing value set of rules.\n",
    "They define the following key attributes:\n",
    "\n",
    "- the `identifier`, as string that uniquely identifies the indicator,\n",
    "- the `realm`, one of \"atmos\", \"land\", \"seaIce\" or \"ocean\", classifying the domain of use of the indicator.\n",
    "- the `compute` function that returns one or more DataArrays, the \"indice\",\n",
    "- the `cfcheck` and `datacheck` methods that make sure the inputs are appropriate and valid.\n",
    "- the `missing` function that masks elements based on null values in the input.\n",
    "- all metadata attributes that will be attributed to the output and that document the indicator:\n",
    "    - Indicator-level attribute are : `title`, `abstract`, `keywords`, `references` and `notes`.\n",
    "    - Ouput variables attributes (respecting CF conventions) are: `var_name`, `standard_name`, `long_name`, `units`, `cell_methods`, `description` and `comment`. \n",
    "\n",
    "Output variables attributes are regrouped in `Indicator.cf_attrs` and input parameters are documented in `Indicator.parameters`.\n",
    "\n",
    "A particularity of Indicators is that each instance corresponds to a single class: when creating a new indicator, a new class is automatically created. This is done for easy construction of indicators based on others, like shown further down.\n",
    "\n",
    "See the [class documentation](../api.rst#module-xclim.core.indicator) for more info on the meaning of each attribute. The [indicators](https://github.com/Ouranosinc/xclim/tree/master/xclim/indicators) module contains over 50 examples of indicators to draw inspiration from.\n",
    "\n",
    "### Metadata parsing vs explicit setting\n",
    "\n",
    "As explained above, most metadata can be parsed from the indice's signature and docstring. Otherwise, it can always be set when creating a new Indicator instance *or* a new subclass. When _creating_ an indicator, output metadata attributes can be given as strings, or list of strings in the case of indicator returning multiple outputs. However, they are stored in the `cf_attrs` list of dictionaries on the instance.\n",
    "\n",
    "### Internationalization of metadata\n",
    "\n",
    "xclim offers the possibility to translate the main Indicator metadata field and automatically add the translations to the outputs. The mechnanic is explained in the [Internationalization](../internationalization.rst) page.\n",
    "\n",
    "### Inputs and checks\n",
    "\n",
    "There are two ways that xclim uses to decide which input arguments of the indicator's call function are considered _variables_ and which are _parameters_. \n",
    "\n",
    "- The `nvar` indicator integer attribute sets the number of arguments that are sent to the `datacheck` and `cfcheck` methods (in the signature's order).\n",
    "- The annotations of the underlying indice (the `compute` method). Arguments annotated with the `xarray.DataArray` type are considered _variables_ and can be read from the dataset passed in `ds`.\n",
    "\n",
    "### Indicator creation\n",
    "\n",
    "There a two and a half ways for creating indicators:\n",
    "\n",
    "- 1) By initializing an existing indicator (sub)class\n",
    "- 1B) Subclassing an existing indicator and then initializing it.\n",
    "- 2) From a dictionary\n",
    "\n",
    "The two first methods are best when defining indicators in scripts of external modules and are explained here. Number 2 is best used when building virtual modules through YAML files, and is explained in the [mappings](mappings.ipynb) notebook and in the [submodule doc](../api.rst#module-xclim.core.indicator).\n",
    "\n",
    "Creating a new indicator that simply modifies a few metadata output of an existing one is a simple call like:"
   ]
  },
  {
   "cell_type": "code",
   "execution_count": null,
   "metadata": {},
   "outputs": [],
   "source": [
    "from xclim.core.indicator import registry\n",
    "from xclim.core.utils import wrapped_partial\n",
    "from xclim.indices import tg_mean\n",
    "\n",
    "# An indicator based on tg_mean, but returning Celsius and fixed on annual resampling\n",
    "tg_mean_c = registry['TG_MEAN'](\n",
    "    identifier='tg_mean_c',\n",
    "    units='degC',\n",
    "    title='Mean daily mean temperature but in degC',\n",
    "    compute=wrapped_partial(tg_mean, freq='YS')  # We inject the freq arg.\n",
    ")"
   ]
  },
  {
   "cell_type": "code",
   "execution_count": null,
   "metadata": {},
   "outputs": [],
   "source": [
    "print(tg_mean_c.__doc__)"
   ]
  },
  {
   "cell_type": "markdown",
   "metadata": {},
   "source": [
    "The registry is a dictionary mapping indicator identifiers (in uppercase) to their class. This way, we could subclass `tg_mean` to create our new indicator. `tg_mean_c` is the exact same as `atmos.tg_mean`, but outputs the result in Celsius instead of Kelvins, has a different title and resamples to \"YS\". The `identifier` keyword is here needed in order to differentiate the new indicator from `tg_mean` itself. If it wasn't given, a warning would have been raised and further subclassing of  `tg_mean` would have in fact subclassed `tg_mean_c`, which is not wanted!\n",
    "\n",
    "This method of class initialization is good for the cases where only metadata and perhaps the compute function is changed. However, to modify the CF compliance and data checks, we recommend creating a class first:"
   ]
  },
  {
   "cell_type": "code",
   "execution_count": null,
   "metadata": {},
   "outputs": [],
   "source": [
    "class TG_MAX_C(registry['TG_MAX']):\n",
    "    identifier = \"tg_max_c\"\n",
    "    missing = \"wmo\"\n",
    "    title = 'Maximum daily mean temperature'\n",
    "    units = 'degC'\n",
    "\n",
    "    @staticmethod\n",
    "    def cfcheck(tas):\n",
    "        xclim.core.cfchecks.check_valid(tas, \"standard_name\", \"air_temperature\")\n",
    "        # Add a very strict check on the long name.\n",
    "        # glob-like wildcards can be used (here *)\n",
    "        xclim.core.cfchecks.check_valid(tas, \"long_name\", \"Surface * daily temperature\")\n",
    "\n",
    "    @staticmethod\n",
    "    def datacheck(tas):\n",
    "        xclim.core.datachecks.check_daily(tas)\n",
    "        \n",
    "tg_max_c = TG_MAX_C()"
   ]
  },
  {
   "cell_type": "code",
   "execution_count": null,
   "metadata": {},
   "outputs": [],
   "source": [
    "ds = open_dataset('ERA5/daily_surface_cancities_1990-1993.nc')\n",
    "\n",
    "ds.tas.attrs['long_name'] = 'Surface average daily temperature'\n",
    "\n",
    "with xclim.set_options(cf_compliance='raise'): \n",
    "    # The data passes the test we implemented (\"average\" is caught by the *)\n",
    "    tmaxc = tg_max_c(tas=ds.tas)\n",
    "tmaxc"
   ]
  },
  {
   "cell_type": "markdown",
   "metadata": {},
   "source": [
    "A caveat of this method is that the new indicator is added to the registry with a non-trivial name. When an indicator subclass is created in a module outside `xclim.indicators`, the name of its parent module is prepended to its identifier in the registry. Here, the module is `__main__`, so:"
   ]
  },
  {
   "cell_type": "code",
   "execution_count": null,
   "metadata": {},
   "outputs": [],
   "source": [
    "'__main__.TG_MAX_C' in registry"
   ]
  },
  {
   "cell_type": "markdown",
   "metadata": {},
   "source": [
    "A simple way to workaround this is to provided a (fake) module name. Passing one of `atmos`, `land`, `seaIce` or `ocean` will result in a normal entry in the registry. However, one could want to keep the distinction between the newly created indicators and the \"official\" ones by passing a custom name **upon instantiation**:"
   ]
  },
  {
   "cell_type": "code",
   "execution_count": null,
   "metadata": {},
   "outputs": [],
   "source": [
    "# Fake module is passed upon instantiation\n",
    "tg_max_c2 = TG_MAX_C(module ='example')\n",
    "print(tg_max_c2.__module__)\n",
    "print('example.TG_MAX_C' in registry)"
   ]
  },
  {
   "cell_type": "markdown",
   "metadata": {},
   "source": [
    "One pattern to create multiple indicators is to write a standard subclass that declares all the attributes that are common to indicators, then call this subclass with the custom attributes. See for example in [xclim.indicators.atmos](https://github.com/Ouranosinc/xclim/blob/master/xclim/indicators/atmos/_temperature.py) how indicators based on daily mean temperatures are created from the `Tas` subclass of the `Daily` class."
   ]
  },
  {
   "cell_type": "markdown",
   "metadata": {},
   "source": [
    "## Defining new modules\n",
    "\n",
    "The [Mapped modules](mappings.ipynb) page explains how old and new indicators can be wrapped and regrouped in virtual modules. "
   ]
  }
 ],
 "metadata": {
  "kernelspec": {
   "display_name": "Python 3",
   "language": "python",
   "name": "python3"
  },
  "language_info": {
   "codemirror_mode": {
    "name": "ipython",
    "version": 3
   },
   "file_extension": ".py",
   "mimetype": "text/x-python",
   "name": "python",
   "nbconvert_exporter": "python",
   "pygments_lexer": "ipython3",
   "version": "3.8.8"
  }
 },
 "nbformat": 4,
 "nbformat_minor": 4
}
