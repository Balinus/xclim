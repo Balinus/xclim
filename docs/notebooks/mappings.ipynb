{
 "cells": [
  {
   "cell_type": "markdown",
   "metadata": {},
   "source": [
    "# Mapped modules\n",
    "\n",
    "`xclim` gives users the ability to generate their own modules from existing indices library. These mappings can help in emulating existing libraries (such as ICCLIM), with the added benefit of CF-compliant metadata, multilingual metadata support, and optimized calculations using federated resources (using Dask). This can be used for example to tailor existing indices with predefined thresholds without having to rewrite indices.\n",
    "\n",
    "Presently, xclim is capable of approximating the indices developed in ICCLIM (https://icclim.readthedocs.io/en/latest/intro.html), ANUCLIM (https://fennerschool.anu.edu.au/files/anuclim61.pdf) and clix-meta (https://github.com/clix-meta/clix-meta) and is open to contributions of new indices and library mappings.\n",
    "\n",
    "This notebook serves as an example of how one might go about creating their own library of mapped indices. Two ways are possible:\n",
    "\n",
    "1. From a YAML file (recommended way)\n",
    "2. From a mapping of indicators\n",
    "\n",
    "## YAML file\n",
    "\n",
    "The first method is based on the YAML syntax proposed by `clix-meta`, expanded to xclim's needs. The full documentation on that syntax is [here](../api.rst#module-xclim.core.indicator). This notebook shows a minimal example, creating a YAML file and then a module from it."
   ]
  },
  {
   "cell_type": "code",
   "execution_count": null,
   "metadata": {},
   "outputs": [],
   "source": [
    "!cat example.yml"
   ]
  },
  {
   "cell_type": "markdown",
   "metadata": {},
   "source": [
    "`example.yml` created a module of 4 indicators.\n",
    "\n",
    "- `RX1day` is simply the same as  `registry['RX1DAY']`, but with an updated `long_name`.\n",
    "- `RX5day` is based on `registry['MAX_N_DAY_PRECIPITATION_AMOUNT']`, changed the `long_name` and injects the `window` argument.\n",
    "- `R75p` is based on `registry['DAYS_OVER_PRECIP_THRESH']`, injects the `thresh` argument and changes the description of the `per` argument. Passing \"data: {per}\" tells xclim the value is still to be determined by the user, but other parameter's metadata field might be changed.\n",
    "- `fd` is a more complex example. As there were no `base:` entry, the `Daily` class serves as a base. As it is pretty much empty, a lot has to be given explicitly:\n",
    "    * A list of allowed resampling frequency is passed\n",
    "    * Many output metadata fields are given\n",
    "    * A index_function name if given (here it refers to a function in `xclim.indices.generic`).\n",
    "    * Some parameters are injected.\n",
    "    * The input variable `data` is mapped to a known variable. Function in `xclim.indices.generic` are indeed generic. Here we tell xclim that the `data` argument is minimal daily temperature. This will set the proper units check, default value and CF-compliance checks.\n",
    "    \n",
    "Additionnaly, the yaml specified a `realm` and `references` to be used on all indices and provided a submodule docstring. Creating the module is then simply:"
   ]
  },
  {
   "cell_type": "code",
   "execution_count": null,
   "metadata": {},
   "outputs": [],
   "source": [
    "import xclim as xc\n",
    "\n",
    "example = xc.core.indicator.build_indicator_module_from_yaml('example.yml', mode='warn')"
   ]
  },
  {
   "cell_type": "code",
   "execution_count": null,
   "metadata": {},
   "outputs": [],
   "source": [
    "print(example.__doc__)\n",
    "print('--')\n",
    "print(xc.indicators.example.fd.__doc__)"
   ]
  },
  {
   "cell_type": "markdown",
   "metadata": {},
   "source": [
    "## Mapping of indicators\n",
    "\n",
    "For more complex mappings or if compute functions not defined in xclim are required, submodule can be constructed from Indicators directly. To construct indicator, please refer to the [customization](customize.ipynb) notebook."
   ]
  },
  {
   "cell_type": "code",
   "execution_count": null,
   "metadata": {},
   "outputs": [],
   "source": [
    "from xclim.core.indicator import build_indicator_module, registry\n",
    "from xclim.core.utils import wrapped_partial\n",
    "\n",
    "mapping = dict(\n",
    "    egg_cooking_season=registry[\"MAXIMUM_CONSECUTIVE_WARM_DAYS\"](\n",
    "        module='awesome',\n",
    "        compute=wrapped_partial(xc.indices.maximum_consecutive_tx_days, thresh=\"35 degC\"),\n",
    "        long_name=\"Season for outdoor egg cooking.\",\n",
    "    ),\n",
    "    fish_feeling_days=registry[\"WETDAYS\"](\n",
    "        module='awesome',\n",
    "        compute=wrapped_partial(xc.indices.wetdays, thresh=\"14.0 mm/day\"),\n",
    "        long_name=\"Days where we feel we are fishes\"\n",
    "    ),\n",
    "    sweater_weather=xc.atmos.tg_min\n",
    ")\n",
    "\n",
    "awesome = build_indicator_module(\n",
    "    name=\"awesome\",\n",
    "    objs=mapping,\n",
    "    doc=\"\"\"\n",
    "        =========================\n",
    "        My Awesome Custom indices\n",
    "        =========================\n",
    "        There are only 3 indices that really matter when you come down to brass tacks.\n",
    "        This mapping library exposes them to users who want to perform real deal \n",
    "        climate science.\n",
    "        \"\"\",\n",
    ")"
   ]
  },
  {
   "cell_type": "code",
   "execution_count": null,
   "metadata": {},
   "outputs": [],
   "source": [
    "print(xc.indicators.awesome.__doc__)"
   ]
  },
  {
   "cell_type": "code",
   "execution_count": null,
   "metadata": {},
   "outputs": [],
   "source": [
    "# Let's look at our new awesome module\n",
    "import inspect\n",
    "\n",
    "print(awesome.__doc__)\n",
    "for i in inspect.getmembers(awesome):\n",
    "    if i[0][0] != '_':\n",
    "        print(f\"{i[0]} : {i[1]}\")"
   ]
  }
 ],
 "metadata": {
  "kernelspec": {
   "display_name": "Python 3",
   "language": "python",
   "name": "python3"
  },
  "language_info": {
   "codemirror_mode": {
    "name": "ipython",
    "version": 3
   },
   "file_extension": ".py",
   "mimetype": "text/x-python",
   "name": "python",
   "nbconvert_exporter": "python",
   "pygments_lexer": "ipython3",
   "version": "3.8.8"
  }
 },
 "nbformat": 4,
 "nbformat_minor": 4
}
