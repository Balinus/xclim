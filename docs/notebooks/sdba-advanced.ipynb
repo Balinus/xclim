{
 "cells": [
  {
   "cell_type": "markdown",
   "metadata": {},
   "source": [
    "# Statistical Downscaling and Bias-Adjustment - Advanced tools\n",
    "\n",
    "The previous notebook covered the most common utilities of `xclim.sdba` for conventionnal cases. Here we explore more advanced usage of `xclim.sdba` tools.\n",
    "\n",
    "## LOESS smoothing and detrending\n",
    "\n",
    "As described in Cleveland (1979), locally weighted linear regressions are multiple regression methods using a nearest-neighbor approach. Instead of using all datapoints to compute a linear or polynomial regression, LOESS algorithms compute a local regression for each point in the dataset, using only the k-nearest neighbors as selected by a weighting function. This weighting function must fulfill some strict requirements, see the doc of `xclim.sdba.loess.loess_smoothing` for more details.\n",
    "\n",
    "In xclim's implementation, the user can choose between local _constancy_ ($d=0$, local estimates are weighted averages) and local _linearity_ ($d=1$, local estimates are taken from linear regressions). Two weighting functions are currently implemented : \"tricube\" ($w(x) = (1 - x^3)^3$) and \"gaussian\" ($w(x) = e^{-x^2 / 2\\sigma^2}$). Finally, the number of Cleveland's _robustifying iterations_ is controllable through `niter`. After computing an estimate of $y(x)$, the weights are modulated by a function of the distance between the estimate and the points and the procedure is started over. These iterations are made to weaken the effect of outliers on the estimate.\n",
    "\n",
    "The next example shows the application of the LOESS to 2 years of daily temperature data. The red curve is the weighting function centered on January 1st 2014, the red circles are the nearest-neighbors. The black line and dot are the estimated $y$, outputs of the `sdba.loess.loess_smoothing` function, using local linear regression (passing $d = 1$), a window spanning 20% ($f = 0.2$) of the domain, the \"tricube\" weighting function and only one iteration."
   ]
  },
  {
   "cell_type": "code",
   "execution_count": null,
   "metadata": {},
   "outputs": [],
   "source": [
    "import matplotlib.pyplot as plt\n",
    "import numpy as np\n",
    "import xarray as xr\n",
    "from xclim.sdba import loess\n",
    "%matplotlib inline"
   ]
  },
  {
   "cell_type": "code",
   "execution_count": null,
   "metadata": {},
   "outputs": [],
   "source": [
    "# Daily temperature data from xarray's tutorials\n",
    "ds = xr.tutorial.open_dataset('air_temperature').resample(time='D').mean()\n",
    "tas = ds.isel(lat=0, lon=0).air\n",
    "\n",
    "## Everything below is there for having a clear explicit mathematical example\n",
    "## Most functions shouldn't be called directly by the user, see next subsection for a concrete usage example\n",
    "\n",
    "# LOESS algorithms as implemented here use scaled coordinates.\n",
    "x = tas.time\n",
    "x = (x - x[0]) / (x[-1] - x[0])\n",
    "xi = x[366]\n",
    "ti = tas.time[366]\n",
    "# weighting function take the distance with all neighbors scaled by the r parameters as input\n",
    "f = 0.2\n",
    "r = int(f * tas.time.size)\n",
    "h = np.sort(np.abs(x - xi))[r]\n",
    "weights = loess._tricube_weighting(np.abs(x - xi).values / h)\n",
    "\n",
    "ys = loess.loess_smoothing(tas, d=1, weights='tricube', f=f, niter=1)\n",
    "\n",
    "fig, ax = plt.subplots()\n",
    "ax.plot(tas.time, tas, 'o', fillstyle='none')\n",
    "wax = ax.twinx()\n",
    "wax.plot(tas.time, weights, color='indianred')\n",
    "ax.plot(tas.time, tas.where(tas * weights > 0), 'o', color='lightcoral', fillstyle='none')\n",
    "ax.plot(tas.time, ys, 'k')\n",
    "ax.plot(ti, ys[366], 'ko')\n",
    "ax.set_xlabel('Time')\n",
    "ax.set_ylabel('Temperature [K]')\n",
    "wax.set_ylabel('Weights')\n",
    "plt.show()"
   ]
  },
  {
   "cell_type": "markdown",
   "metadata": {},
   "source": [
    "As it can already be seen in this small example, LOESS smoothing suffers from heavy boundary effects. On the other hand, it has the advantage of always staying within the bounds of the data.\n",
    "\n",
    "\n",
    "### LOESS Detrending\n",
    "\n",
    "In climate science, it can be used in the detrending process. `xclim` provides `sdba.detrending.LoessDetrend` in order to compute trend with the LOESS smoothing and remove them from timeseries.\n",
    "\n",
    "First we create some toy data with a sinusoidal annual cycle, random noise and a linear temperature increase."
   ]
  },
  {
   "cell_type": "code",
   "execution_count": null,
   "metadata": {},
   "outputs": [],
   "source": [
    "time = xr.cftime_range('1990-01-01', '2049-12-31', calendar='noleap')\n",
    "tas = xr.DataArray(\n",
    "   (10 * np.sin(time.dayofyear * 2 * np.pi / 365) +  # Annual variability\n",
    "    5 * (np.random.random_sample(time.size) - 0.5) +  # Random noise\n",
    "    np.linspace(0, 1.5, num=time.size)),  # 1.5 degC increase in 60 years\n",
    "    dims=('time',), coords={'time': time},\n",
    "    attrs={'units': 'degC'}, name='temperature',\n",
    ")\n",
    "tas.plot()"
   ]
  },
  {
   "cell_type": "markdown",
   "metadata": {},
   "source": [
    "Then we compute the trend on the data. Here, we compute on the whole timeseries (`group='time'`) with the parameters suggested above."
   ]
  },
  {
   "cell_type": "code",
   "execution_count": null,
   "metadata": {},
   "outputs": [],
   "source": [
    "from xclim.sdba.detrending import LoessDetrend\n",
    "\n",
    "# Create the detrending object\n",
    "det = LoessDetrend(group='time', d=0, niter=2, f=0.2)\n",
    "# Fitting returns a new object\n",
    "fit = det.fit(tas)\n",
    "# Get the trend and the detrended series\n",
    "trend = fit.get_trend(tas)\n",
    "tas_det = fit.detrend(tas)"
   ]
  },
  {
   "cell_type": "code",
   "execution_count": null,
   "metadata": {},
   "outputs": [],
   "source": [
    "fig, ax = plt.subplots()\n",
    "trend.plot(ax=ax, label='Computed trend')\n",
    "ax.plot(time, np.linspace(0, 1.5, num=time.size), label='Expected tred')\n",
    "ax.plot([time[0], time[int(0.1 * time.size)]], [0.4, 0.4], linewidth=2)"
   ]
  },
  {
   "cell_type": "markdown",
   "metadata": {},
   "source": [
    "As said earlier, this example shows how the Loess has strong boundary effects. It is recommended to remove the $\\frac{f}{2}\\cdot N$ outermost points on each side, as shown by the thick green bar in the graph above."
   ]
  },
  {
   "cell_type": "code",
   "execution_count": null,
   "metadata": {},
   "outputs": [],
   "source": []
  }
 ],
 "metadata": {
  "kernelspec": {
   "display_name": "Python 3",
   "language": "python",
   "name": "python3"
  },
  "language_info": {
   "codemirror_mode": {
    "name": "ipython",
    "version": 3
   },
   "file_extension": ".py",
   "mimetype": "text/x-python",
   "name": "python",
   "nbconvert_exporter": "python",
   "pygments_lexer": "ipython3",
   "version": "3.8.5"
  }
 },
 "nbformat": 4,
 "nbformat_minor": 4
}
