{
 "cells": [
  {
   "cell_type": "code",
   "execution_count": null,
   "metadata": {
    "nbsphinx": "hidden"
   },
   "outputs": [],
   "source": [
    "import numpy as np\n",
    "import xarray as xr\n",
    "\n",
    "# Create 'toy' criteria selection data\n",
    "np.random.normal(loc=3.5, scale=1.5, size=50)\n",
    "#crit['delta_annual_tavg']\n",
    "np.random.seed(0)\n",
    "test = xr.DataArray(np.random.normal(loc=3, scale=1.5, size=100), dims=['realization']).assign_coords(horizon='2041-2070')\n",
    "test = xr.concat((test,xr.DataArray(np.random.normal(loc=5.34, scale=2, size=100), dims=['realization']).assign_coords(horizon='2071-2100')), dim='horizon')\n",
    "ds_crit = xr.Dataset()\n",
    "ds_crit['delta_annual_tavg'] = test\n",
    "test = xr.DataArray(np.random.normal(loc=5, scale=5, size=100), dims=['realization']).assign_coords(horizon='2041-2070')\n",
    "test = xr.concat((test,xr.DataArray(np.random.normal(loc=10, scale=8, size=100), dims=['realization']).assign_coords(horizon='2071-2100')), dim='horizon')\n",
    "ds_crit['delta_annual_prtot'] = test\n",
    "\n",
    "test = xr.DataArray(np.random.normal(loc=0, scale=3, size=100), dims=['realization']).assign_coords(horizon='2041-2070')\n",
    "test = xr.concat((test,xr.DataArray(np.random.normal(loc=2, scale=4, size=100), dims=['realization']).assign_coords(horizon='2071-2100')), dim='horizon')\n",
    "ds_crit['delta_JJA_prtot'] = test"
   ]
  },
  {
   "cell_type": "markdown",
   "metadata": {},
   "source": [
    "Ensemble -  Reduction Techniques\n",
    "=================================\n",
    "\n",
    "`xclim.ensembles` provides means of reducing the number of candidates in a sample to get a reasonable and representative spread of outcomes using a reduced number of candidates. By reducing the number of realizations in a strategic manner, we can significantly reduce the number of relizations that are considered, while maintaining statistical representation of original dataset. This is particularly useful when computation power or time is a factor.\n",
    "\n",
    "**Selection Criteria** \n",
    "ADD TEXT HERE - pretend delta values IN THIS CASE WE HAVE A TOTAL OF 6 CRITERIA (3 delta variables with 2 horizons). We want to reduce the number of runs while still covering uncertainty in the 6 criteria"
   ]
  },
  {
   "cell_type": "code",
   "execution_count": null,
   "metadata": {},
   "outputs": [],
   "source": [
    "import matplotlib.pyplot as plt\n",
    "import numpy as np\n",
    "import xarray as xr\n",
    "from xclim import ensembles\n",
    "\n",
    "# Using an xarray dataset of our criteria\n",
    "ds_crit: xr.Dataset\n",
    "ds_crit"
   ]
  },
  {
   "cell_type": "code",
   "execution_count": null,
   "metadata": {},
   "outputs": [],
   "source": [
    "plt.style.use('seaborn-dark')\n",
    "plt.rcParams['figure.figsize'] = (13, 5)\n",
    "fig = plt.figure(figsize=(9,9))\n",
    "ax = plt.axes(projection='3d')\n",
    "\n",
    "for h in ds_crit.horizon:\n",
    "    ax.scatter(ds_crit.sel(horizon=h).delta_annual_tavg, ds_crit.sel(horizon=h).delta_annual_prtot,\n",
    "            ds_crit.sel(horizon=h).delta_JJA_prtot,label=f\"delta {h.values}\")\n",
    "\n",
    "ax.set_xlabel('delta_annual_tavg (C)')\n",
    "ax.set_ylabel('delta_annual_prtot (%)')\n",
    "ax.set_zlabel('delta_JJA_prtot (%)')\n",
    "plt.legend()"
   ]
  },
  {
   "cell_type": "markdown",
   "metadata": {},
   "source": [
    "Ensemble reduction techniques require a 2D array with dimensions of `criteria` and `realization`"
   ]
  },
  {
   "cell_type": "code",
   "execution_count": null,
   "metadata": {},
   "outputs": [],
   "source": [
    "# Create 2d xr.DataArray containincg criteria values\n",
    "crit=None\n",
    "for h in ds_crit.horizon:\n",
    "    for v in ds_crit.data_vars:\n",
    "        if crit is None:\n",
    "            crit = ds_crit[v].sel(horizon=h)\n",
    "        else:\n",
    "            crit = xr.concat((crit, ds_crit[v].sel(horizon=h)), dim='criteria')\n",
    "crit.name= 'criteria'\n",
    "crit.shape"
   ]
  },
  {
   "cell_type": "markdown",
   "metadata": {},
   "source": [
    "#### **K-Means reduce ensemble**\n",
    "\n",
    "The `kmeans_reduce_ensemble` works by grouping realizations into sub-groups based on the provided critera and retaining a representative `realization` per sub-group\n",
    "* Example using `method = n_clusters`  \n",
    "* The function  returns the `ids` of the selected realizations\n",
    "* In this example we reduce the original 100 realizations to n=25"
   ]
  },
  {
   "cell_type": "code",
   "execution_count": null,
   "metadata": {},
   "outputs": [],
   "source": [
    "ids, cluster, fig_data = ensembles.kmeans_reduce_ensemble(data=crit, method={'n_clusters':25}, random_state=42, make_graph=True)\n",
    "ds_crit.isel(realization = ids)"
   ]
  },
  {
   "cell_type": "markdown",
   "metadata": {},
   "source": [
    "We can now compare the distribution of the selection versus the original ensemble"
   ]
  },
  {
   "cell_type": "code",
   "execution_count": null,
   "metadata": {},
   "outputs": [],
   "source": [
    "plt.style.use('seaborn-dark')\n",
    "fig = plt.figure(figsize=(9,9))\n",
    "ax = plt.axes(projection='3d')\n",
    "\n",
    "for h in ds_crit.horizon:\n",
    "    ax.scatter(ds_crit.sel(horizon=h,realization=ids).delta_annual_tavg, ds_crit.sel(horizon=h, realization=ids).delta_annual_prtot ,\n",
    "            ds_crit.sel(horizon=h,realization=ids).delta_JJA_prtot,label=f\"delta {h.values} - selected\")\n",
    "\n",
    "ax.set_xlabel('delta_annual_tavg (C)')\n",
    "ax.set_ylabel('delta_annual_prtot (%)')\n",
    "ax.set_zlabel('delta_JJA_prtot (%)')\n",
    "plt.legend()"
   ]
  },
  {
   "cell_type": "markdown",
   "metadata": {},
   "source": [
    "The function optionally produces a data dictionary for figure production of the associated R² profile. \n",
    "The function`ensembles.plot_rsqprofile` provides plotting for evaluating the proportion of total variance in climate realizations that is covered by the selection.  In this case ~78% of the total variance in original ensemble is covered by the selection"
   ]
  },
  {
   "cell_type": "code",
   "execution_count": null,
   "metadata": {},
   "outputs": [],
   "source": [
    "ensembles.plot_rsqprofile(fig_data)"
   ]
  },
  {
   "cell_type": "markdown",
   "metadata": {},
   "source": [
    "Alternatively we can use `method = {'rsq_cutoff':Float}` or `method = {'rsq_optimize':None}`\n",
    "* For example with `rsq_cutoff` we instead find the number of realizations needed to cover the provided $R^{2}$ value"
   ]
  },
  {
   "cell_type": "code",
   "execution_count": null,
   "metadata": {},
   "outputs": [],
   "source": [
    "ids1, cluster1, fig_data1 = ensembles.kmeans_reduce_ensemble(data=crit, method={'rsq_cutoff':0.85}, random_state=42, make_graph=True)\n",
    "ensembles.plot_rsqprofile(fig_data1)\n",
    "ds_crit.isel(realization=ids1)"
   ]
  },
  {
   "cell_type": "markdown",
   "metadata": {},
   "source": [
    "#### **KKZ reduce ensemble**\n",
    "TODO BETTER DESCRIPTIONS HERE...\n",
    "\n",
    "A similar ensemble reduction algorithm `ensembles.kkz_reduce_ensemble` is also available\n",
    "* Describe difference - big advantage .. NESTED results."
   ]
  },
  {
   "cell_type": "code",
   "execution_count": null,
   "metadata": {},
   "outputs": [],
   "source": [
    "ids = ensembles.kkz_reduce_ensemble(crit, num_select=10)\n",
    "ds_crit.isel(realization=ids)"
   ]
  },
  {
   "cell_type": "code",
   "execution_count": null,
   "metadata": {},
   "outputs": [],
   "source": [
    "plt.style.use('seaborn-dark')\n",
    "fig = plt.figure(figsize=(9,9))\n",
    "ax = plt.axes(projection='3d')\n",
    "\n",
    "for h in ds_crit.horizon:\n",
    "\n",
    "    ax.scatter(ds_crit.sel(horizon=h,realization=ids).delta_annual_tavg, ds_crit.sel(horizon=h, realization=ids).delta_annual_prtot ,\n",
    "            ds_crit.sel(horizon=h,realization=ids).delta_JJA_prtot,label=f\"delta {h.values} - selected\")\n",
    "\n",
    "ax.set_xlabel('delta_annual_tavg (C)')\n",
    "ax.set_ylabel('delta_annual_prtot (%)')\n",
    "ax.set_zlabel('delta_JJA_prtot (%)')\n",
    "plt.legend()"
   ]
  },
  {
   "cell_type": "code",
   "execution_count": null,
   "metadata": {},
   "outputs": [],
   "source": [
    "## NESTED results using KKZ\n",
    "for n in np.arange(5, 13):\n",
    "    ids = ensembles.kkz_reduce_ensemble(crit, num_select=n)\n",
    "    print(ids)\n",
    "    "
   ]
  },
  {
   "cell_type": "code",
   "execution_count": null,
   "metadata": {
    "pycharm": {
     "name": "#%%\n"
    }
   },
   "outputs": [],
   "source": [
    "## UNNESTED results using k-means\n",
    "for n in np.arange(5, 13):\n",
    "    ids, cluster, fig_data = ensembles.kmeans_reduce_ensemble(crit, method={'n_clusters':n},random_state=42, make_graph=True)\n",
    "    print(ids)"
   ]
  }
 ],
 "metadata": {
  "celltoolbar": "Edit Metadata",
  "kernelspec": {
   "display_name": "Python 3",
   "language": "python",
   "name": "python3"
  },
  "language_info": {
   "codemirror_mode": {
    "name": "ipython",
    "version": 3
   },
   "file_extension": ".py",
   "mimetype": "text/x-python",
   "name": "python",
   "nbconvert_exporter": "python",
   "pygments_lexer": "ipython3",
   "version": "3.8.5"
  }
 },
 "nbformat": 4,
 "nbformat_minor": 4
}
